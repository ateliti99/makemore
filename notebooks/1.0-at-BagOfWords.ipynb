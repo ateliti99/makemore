{
 "cells": [
  {
   "cell_type": "markdown",
   "metadata": {},
   "source": [
    "## Bag Of Chars and MLP\n",
    "\n",
    "In this section, we introduce two new concepts that will be used in conjunction. The first concept, **Bag of Chars**, serves as an alternative to the classic bigram approach discussed in the previous notebook. Unlike bigrams, which consider pairs of characters sequentially, **Bag of Chars** offers a more flexible technique for generating words.\n",
    "\n",
    "### Explanation:\n",
    "\n",
    "- **Bag of Chars:** This technique involves treating each character in a word as an independent entity, similar to how a bag of words model operates in natural language processing. Instead of focusing on character pairs (bigrams), we consider the frequency distribution and relationships between individual characters across words.\n",
    "  \n",
    "- **MLP (Multi-Layer Perceptron):** Alongside Bag of Chars, we employ an MLP for prediction and generation tasks. An MLP is a type of neural network architecture that consists of multiple layers of nodes (neurons), each layer fully connected to the next. It excels in learning complex patterns and relationships within data, which is advantageous when working with the flexible character representations provided by Bag of Chars.\n",
    "\n",
    "By combining Bag of Chars with an MLP, we aim to enhance the flexibility and effectiveness of word generation models compared to traditional bigram approaches. This setup allows us to capture more nuanced dependencies between characters and generate more diverse and contextually appropriate sequences of characters or words."
   ]
  },
  {
   "cell_type": "code",
   "execution_count": 1,
   "metadata": {},
   "outputs": [
    {
     "name": "stderr",
     "output_type": "stream",
     "text": [
      "\u001b[32m2024-06-16 15:43:47.745\u001b[0m | \u001b[1mINFO    \u001b[0m | \u001b[36mmakemore.config\u001b[0m:\u001b[36m<module>\u001b[0m:\u001b[36m11\u001b[0m - \u001b[1mPROJ_ROOT path is: /home/linx/code_workspace/makemore\u001b[0m\n"
     ]
    },
    {
     "name": "stdout",
     "output_type": "stream",
     "text": [
      "RAW_DATA_DIR: /home/linx/code_workspace/makemore/data/raw\n",
      "PROCESSED_DATA_DIR: /home/linx/code_workspace/makemore/data/processed\n"
     ]
    }
   ],
   "source": [
    "from makemore.config import RAW_DATA_DIR, PROCESSED_DATA_DIR\n",
    "print(f\"RAW_DATA_DIR: {RAW_DATA_DIR}\")\n",
    "print(f\"PROCESSED_DATA_DIR: {PROCESSED_DATA_DIR}\")"
   ]
  },
  {
   "cell_type": "code",
   "execution_count": 2,
   "metadata": {},
   "outputs": [
    {
     "name": "stdout",
     "output_type": "stream",
     "text": [
      "\u001b[32m2024-06-16 15:43:58.871\u001b[0m | \u001b[1mINFO    \u001b[0m | \u001b[36mmakemore.config\u001b[0m:\u001b[36m<module>\u001b[0m:\u001b[36m11\u001b[0m - \u001b[1mPROJ_ROOT path is: /home/linx/code_workspace/makemore\u001b[0m\n",
      "\u001b[32m2024-06-16 15:43:58.875\u001b[0m | \u001b[1mINFO    \u001b[0m | \u001b[36m__main__\u001b[0m:\u001b[36mmain\u001b[0m:\u001b[36m22\u001b[0m - \u001b[1mDownloading dataset...\u001b[0m\n",
      "100%|█████████████████████████████████████████████| 1/1 [00:00<00:00,  3.68it/s]\n",
      "\u001b[32m2024-06-16 15:43:59.148\u001b[0m | \u001b[1mINFO    \u001b[0m | \u001b[36m__main__\u001b[0m:\u001b[36mmain\u001b[0m:\u001b[36m27\u001b[0m - \u001b[1mnamex.txt correctly download!\u001b[0m\n"
     ]
    }
   ],
   "source": [
    "# Download the dataset\n",
    "!python ../makemore/dataset.py"
   ]
  },
  {
   "cell_type": "code",
   "execution_count": 3,
   "metadata": {},
   "outputs": [
    {
     "name": "stdout",
     "output_type": "stream",
     "text": [
      "['emma\\n', 'olivia\\n', 'ava\\n', 'isabella\\n', 'sophia\\n', 'charlotte\\n', 'mia\\n', 'amelia\\n', 'harper\\n', 'evelyn\\n']\n"
     ]
    },
    {
     "data": {
      "text/plain": [
       "['emma',\n",
       " 'olivia',\n",
       " 'ava',\n",
       " 'isabella',\n",
       " 'sophia',\n",
       " 'charlotte',\n",
       " 'mia',\n",
       " 'amelia',\n",
       " 'harper',\n",
       " 'evelyn']"
      ]
     },
     "execution_count": 3,
     "metadata": {},
     "output_type": "execute_result"
    }
   ],
   "source": [
    "DATASET_NAME = \"names.txt\"\n",
    "\n",
    "# Read words\n",
    "with open(RAW_DATA_DIR / DATASET_NAME, \"r\") as names_file:\n",
    "    names = names_file.readlines()\n",
    "\n",
    "print(names[:10])\n",
    "\n",
    "# Remove the \\n from all the names\n",
    "names = [name[:-1] for name in names]\n",
    "\n",
    "names[:10]"
   ]
  },
  {
   "cell_type": "code",
   "execution_count": 6,
   "metadata": {},
   "outputs": [
    {
     "data": {
      "text/plain": [
       "({'.': 0,\n",
       "  'q': 1,\n",
       "  'w': 2,\n",
       "  'e': 3,\n",
       "  'r': 4,\n",
       "  't': 5,\n",
       "  'y': 6,\n",
       "  'u': 7,\n",
       "  'i': 8,\n",
       "  'o': 9,\n",
       "  'p': 10,\n",
       "  'a': 11,\n",
       "  's': 12,\n",
       "  'd': 13,\n",
       "  'f': 14,\n",
       "  'g': 15,\n",
       "  'h': 16,\n",
       "  'j': 17,\n",
       "  'k': 18,\n",
       "  'l': 19,\n",
       "  'z': 20,\n",
       "  'x': 21,\n",
       "  'c': 22,\n",
       "  'v': 23,\n",
       "  'b': 24,\n",
       "  'n': 25,\n",
       "  'm': 26},\n",
       " {0: '.',\n",
       "  1: 'q',\n",
       "  2: 'w',\n",
       "  3: 'e',\n",
       "  4: 'r',\n",
       "  5: 't',\n",
       "  6: 'y',\n",
       "  7: 'u',\n",
       "  8: 'i',\n",
       "  9: 'o',\n",
       "  10: 'p',\n",
       "  11: 'a',\n",
       "  12: 's',\n",
       "  13: 'd',\n",
       "  14: 'f',\n",
       "  15: 'g',\n",
       "  16: 'h',\n",
       "  17: 'j',\n",
       "  18: 'k',\n",
       "  19: 'l',\n",
       "  20: 'z',\n",
       "  21: 'x',\n",
       "  22: 'c',\n",
       "  23: 'v',\n",
       "  24: 'b',\n",
       "  25: 'n',\n",
       "  26: 'm'})"
      ]
     },
     "execution_count": 6,
     "metadata": {},
     "output_type": "execute_result"
    }
   ],
   "source": [
    "# Generate decoder and encoder for chars\n",
    "chars = \".qwertyuiopasdfghjklzxcvbnm\" # All available letters in latin alphabet plus .\n",
    "decoder, encoder = {}, {}\n",
    "\n",
    "for i, ch in enumerate(chars):\n",
    "    encoder[ch] = i\n",
    "    decoder[i] = ch\n",
    "\n",
    "encoder, decoder  "
   ]
  },
  {
   "cell_type": "code",
   "execution_count": 4,
   "metadata": {},
   "outputs": [],
   "source": [
    "import torch\n",
    "import torch.nn.functional as F\n",
    "import matplotlib.pyplot as plt"
   ]
  },
  {
   "cell_type": "markdown",
   "metadata": {},
   "source": [
    "First, we will attempt to understand the structure based on the image shown below. This is an MLP where the input consists of the three previous characters. The goal of the model is to predict the next character given a contextual block. These characters are first transformed into a vector space called embeddings, which is a crucial mathematical representation for Language Model (LM) tasks.\n",
    "\n",
    "Once the characters are converted into embeddings, they are concatenated into a single vector. This vector serves as the input to a hidden layer, which then feeds into the output layer. The output layer has a size of 27, corresponding to the 27 available characters. The model uses a cross-entropy loss function to compute the probability distribution over these characters, predicting the most probable next character.\n",
    "\n",
    "All the discussed parameters can be adjusted, and it is advisable not to hardcode them to allow for testing different configurations effectively.\n",
    "\n",
    "### Parameters:\n",
    "- Input size (number of previous characters)\n",
    "- Embedding dimension\n",
    "- Hidden layer size\n",
    "- Output layer size (number of characters)\n",
    "- Loss function (e.g., cross-entropy)\n",
    "- Optimization algorithm and its parameters (e.g., learning rate)\n",
    "- Number of training epochs\n",
    "- Batch size\n",
    "- Dropout rate (if used)\n",
    "- Activation functions\n"
   ]
  },
  {
   "cell_type": "markdown",
   "metadata": {},
   "source": [
    "![alt text](/home/linx/code_workspace/makemore/reports/figures/word_embedding.ppm)"
   ]
  },
  {
   "cell_type": "markdown",
   "metadata": {},
   "source": [
    "We will start by building the dataset that we will use to train the model"
   ]
  },
  {
   "cell_type": "code",
   "execution_count": 13,
   "metadata": {},
   "outputs": [
    {
     "name": "stdout",
     "output_type": "stream",
     "text": [
      "Dataset lenght: 196112\n"
     ]
    }
   ],
   "source": [
    "# Context window dimension\n",
    "context_size = 3 # As in the paper\n",
    "\n",
    "# Store dataset\n",
    "X, Y = [], []\n",
    "\n",
    "for name in names:\n",
    "    # Starting context\n",
    "    context = [0] * context_size\n",
    "\n",
    "    for ch in name:\n",
    "        # Encode ch in an int\n",
    "        i_ch = encoder[ch]\n",
    "        # Store couple\n",
    "        X.append(context)\n",
    "        Y.append(i_ch)\n",
    "        # Update context\n",
    "        context = context[1:] + [i_ch]\n",
    "\n",
    "# Store dataset in torch tensor\n",
    "X = torch.tensor(X)\n",
    "Y = torch.tensor(Y)\n",
    "\n",
    "print(f\"Dataset lenght: {len(Y)}\")"
   ]
  },
  {
   "cell_type": "markdown",
   "metadata": {},
   "source": [
    "Always visualize of the data are correctly stored in the tensors"
   ]
  },
  {
   "cell_type": "code",
   "execution_count": 17,
   "metadata": {},
   "outputs": [
    {
     "name": "stdout",
     "output_type": "stream",
     "text": [
      "['.', '.', '.'] --> e\n",
      "['.', '.', 'e'] --> m\n",
      "['.', 'e', 'm'] --> m\n",
      "['e', 'm', 'm'] --> a\n",
      "['.', '.', '.'] --> o\n",
      "['.', '.', 'o'] --> l\n",
      "['.', 'o', 'l'] --> i\n",
      "['o', 'l', 'i'] --> v\n",
      "['l', 'i', 'v'] --> i\n",
      "['i', 'v', 'i'] --> a\n"
     ]
    }
   ],
   "source": [
    "for prev, next in zip(X[:10], Y[:10]):\n",
    "    prev_ch = [decoder[i.item()] for i in prev]\n",
    "    next_ch = decoder[next.item()]\n",
    "\n",
    "    print(f\"{prev_ch} --> {next_ch}\")"
   ]
  },
  {
   "cell_type": "markdown",
   "metadata": {},
   "source": [
    "Is noe the time to build out model. Best practice is to start from a forward with only a some data without using the backpropgation. This is done in order to understand if all computations are working correctly"
   ]
  },
  {
   "cell_type": "code",
   "execution_count": 38,
   "metadata": {},
   "outputs": [
    {
     "data": {
      "text/plain": [
       "tensor(13.8173)"
      ]
     },
     "execution_count": 38,
     "metadata": {},
     "output_type": "execute_result"
    }
   ],
   "source": [
    "# Embedding matrix: put chars in a vector space\n",
    "embedding_dim = 2\n",
    "C = torch.randn(27, embedding_dim)\n",
    "\n",
    "# We now need to extract prev and next and convert the chars into the embeddings\n",
    "n = 5\n",
    "x_example, y_example = X[:n], Y[:n]\n",
    "\n",
    "# Compute embeddings\n",
    "embeddings = C[x_example]\n",
    "\n",
    "# Concatenate embeddings of the same context\n",
    "embeddings = embeddings.view((-1, embedding_dim * context_size))\n",
    "\n",
    "# First hidden layer\n",
    "W1 = torch.randn(embedding_dim * context_size, 100)\n",
    "b1 = torch.randn(100)\n",
    "\n",
    "out = (embeddings @ W1 + b1).tanh()\n",
    "\n",
    "# Output layer\n",
    "W2 = torch.randn(100, 27)\n",
    "b2 = torch.randn(27)\n",
    "\n",
    "out = out @ W2 + b2\n",
    "\n",
    "# Compute loss\n",
    "loss = F.cross_entropy(out, y_example)"
   ]
  },
  {
   "cell_type": "markdown",
   "metadata": {},
   "source": [
    "Let's now train the network"
   ]
  },
  {
   "cell_type": "code",
   "execution_count": 81,
   "metadata": {},
   "outputs": [],
   "source": [
    "# Hyperparameters\n",
    "EPOCHS = 50000\n",
    "lr = 0.1\n",
    "embedding_dim = 2\n",
    "hidden_layer_size = 100\n",
    "batch_size = 32"
   ]
  },
  {
   "cell_type": "code",
   "execution_count": 82,
   "metadata": {},
   "outputs": [
    {
     "name": "stdout",
     "output_type": "stream",
     "text": [
      "CUDA is not available. Using CPU.\n"
     ]
    }
   ],
   "source": [
    "# Check if CUDA is available\n",
    "if torch.cuda.is_available():\n",
    "    print(\"CUDA is available. GPU is ready for use.\")\n",
    "else:\n",
    "    print(\"CUDA is not available. Using CPU.\")"
   ]
  },
  {
   "cell_type": "code",
   "execution_count": 83,
   "metadata": {},
   "outputs": [],
   "source": [
    "# Parameters\n",
    "C = torch.randn(27, embedding_dim)\n",
    "W1 = torch.randn(embedding_dim * context_size, hidden_layer_size)\n",
    "b1 = torch.randn(hidden_layer_size)\n",
    "W2 = torch.randn(hidden_layer_size, 27)\n",
    "b2 = torch.randn(27)\n",
    "parameters = [C, W1, b1, W2, b2]\n",
    "\n",
    "for p in parameters:\n",
    "    p.requires_grad = True"
   ]
  },
  {
   "cell_type": "code",
   "execution_count": 84,
   "metadata": {},
   "outputs": [
    {
     "name": "stdout",
     "output_type": "stream",
     "text": [
      "n1: 156890, n2: 176501\n",
      "Train lenght: 156890, Validation lenght: 19611, Test lenght: 19611\n"
     ]
    }
   ],
   "source": [
    "# Split the dataset\n",
    "n1 = round(len(Y) * 0.80)\n",
    "n2 = round(len(Y) * 0.90)\n",
    "\n",
    "X_train, Y_train = X[:n1], Y[:n1]\n",
    "X_val, Y_val = X[n1:n2], Y[n1:n2]\n",
    "X_test, Y_test = X[n2], Y[n2:]\n",
    "\n",
    "print(f\"n1: {n1}, n2: {n2}\")\n",
    "print(f\"Train lenght: {len(Y_train)}, Validation lenght: {len(Y_val)}, Test lenght: {len(Y_test)}\")"
   ]
  },
  {
   "cell_type": "code",
   "execution_count": 101,
   "metadata": {},
   "outputs": [],
   "source": [
    "stats = {\"epoch\": [],\n",
    "         \"loss\": [],\n",
    "         \"min_loss\": 200,\n",
    "         \"best_model_params\": []}\n",
    "\n",
    "# Training\n",
    "for epoch in range(EPOCHS):\n",
    "    # Mini-batch\n",
    "    i = torch.randint(low=0, high=len(Y_train), size=(batch_size,))\n",
    "    x_batch = X_train[i]\n",
    "    y_batch = Y_train[i]\n",
    "\n",
    "    # Forward\n",
    "    emb = C[x_batch].view((-1, embedding_dim * context_size))\n",
    "    out = (emb @ W1 + b1).tanh()\n",
    "    out = out @ W2 + b2\n",
    "    loss = F.cross_entropy(out, y_batch)\n",
    "\n",
    "    # Set grad to zero\n",
    "    for p in parameters:\n",
    "        p.grad = None\n",
    "\n",
    "    # Backpropagation\n",
    "    loss.backward()\n",
    "\n",
    "    # Update\n",
    "    for p in parameters:\n",
    "        lr = lr if epoch < 10000 else 0.0001\n",
    "        p.data -= lr * p.grad\n",
    "\n",
    "    # Store stats\n",
    "    stats[\"epoch\"].append(epoch)\n",
    "    stats[\"loss\"].append(loss.item())\n",
    "    if loss.item() < stats[\"min_loss\"]:\n",
    "        stats[\"min_loss\"] = loss.item() "
   ]
  },
  {
   "cell_type": "code",
   "execution_count": 104,
   "metadata": {},
   "outputs": [
    {
     "data": {
      "image/png": "[encoded data removed]",
      "text/plain": [
       "<Figure size 640x480 with 1 Axes>"
      ]
     },
     "metadata": {},
     "output_type": "display_data"
    },
    {
     "name": "stdout",
     "output_type": "stream",
     "text": [
      "Min loss: 1.6917173862457275\n"
     ]
    }
   ],
   "source": [
    "plt.plot(stats[\"epoch\"], stats[\"loss\"])\n",
    "plt.xscale(\"log\")\n",
    "plt.show()\n",
    "\n",
    "print(f\"Min loss: {stats['min_loss']}\")"
   ]
  }
 ],
 "metadata": {
  "kernelspec": {
   "display_name": "env",
   "language": "python",
   "name": "python3"
  },
  "language_info": {
   "codemirror_mode": {
    "name": "ipython",
    "version": 3
   },
   "file_extension": ".py",
   "mimetype": "text/x-python",
   "name": "python",
   "nbconvert_exporter": "python",
   "pygments_lexer": "ipython3",
   "version": "3.10.12"
  }
 },
 "nbformat": 4,
 "nbformat_minor": 2
}
