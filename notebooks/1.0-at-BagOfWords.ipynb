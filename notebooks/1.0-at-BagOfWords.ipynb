{
 "cells": [
  {
   "cell_type": "markdown",
   "metadata": {},
   "source": [
    "## Bag Of Chars and MLP\n",
    "\n",
    "In this section, we introduce two new concepts that will be used in conjunction. The first concept, **Bag of Chars**, serves as an alternative to the classic bigram approach discussed in the previous notebook. Unlike bigrams, which consider pairs of characters sequentially, **Bag of Chars** offers a more flexible technique for generating words.\n",
    "\n",
    "### Explanation:\n",
    "\n",
    "- **Bag of Chars:** This technique involves treating each character in a word as an independent entity, similar to how a bag of words model operates in natural language processing. Instead of focusing on character pairs (bigrams), we consider the frequency distribution and relationships between individual characters across words.\n",
    "  \n",
    "- **MLP (Multi-Layer Perceptron):** Alongside Bag of Chars, we employ an MLP for prediction and generation tasks. An MLP is a type of neural network architecture that consists of multiple layers of nodes (neurons), each layer fully connected to the next. It excels in learning complex patterns and relationships within data, which is advantageous when working with the flexible character representations provided by Bag of Chars.\n",
    "\n",
    "By combining Bag of Chars with an MLP, we aim to enhance the flexibility and effectiveness of word generation models compared to traditional bigram approaches. This setup allows us to capture more nuanced dependencies between characters and generate more diverse and contextually appropriate sequences of characters or words."
   ]
  },
  {
   "cell_type": "code",
   "execution_count": 1,
   "metadata": {},
   "outputs": [
    {
     "name": "stderr",
     "output_type": "stream",
     "text": [
      "\u001b[32m2024-06-20 20:32:50.428\u001b[0m | \u001b[1mINFO    \u001b[0m | \u001b[36mmakemore.config\u001b[0m:\u001b[36m<module>\u001b[0m:\u001b[36m11\u001b[0m - \u001b[1mPROJ_ROOT path is: /home/linx/code_workspace/makemore\u001b[0m\n"
     ]
    },
    {
     "name": "stdout",
     "output_type": "stream",
     "text": [
      "RAW_DATA_DIR: /home/linx/code_workspace/makemore/data/raw\n",
      "PROCESSED_DATA_DIR: /home/linx/code_workspace/makemore/data/processed\n"
     ]
    }
   ],
   "source": [
    "from makemore.config import RAW_DATA_DIR, PROCESSED_DATA_DIR\n",
    "print(f\"RAW_DATA_DIR: {RAW_DATA_DIR}\")\n",
    "print(f\"PROCESSED_DATA_DIR: {PROCESSED_DATA_DIR}\")"
   ]
  },
  {
   "cell_type": "code",
   "execution_count": 2,
   "metadata": {},
   "outputs": [
    {
     "name": "stdout",
     "output_type": "stream",
     "text": [
      "\u001b[32m2024-06-20 20:32:51.097\u001b[0m | \u001b[1mINFO    \u001b[0m | \u001b[36mmakemore.config\u001b[0m:\u001b[36m<module>\u001b[0m:\u001b[36m11\u001b[0m - \u001b[1mPROJ_ROOT path is: /home/linx/code_workspace/makemore\u001b[0m\n",
      "\u001b[32m2024-06-20 20:32:51.103\u001b[0m | \u001b[1mINFO    \u001b[0m | \u001b[36m__main__\u001b[0m:\u001b[36mmain\u001b[0m:\u001b[36m22\u001b[0m - \u001b[1mDownloading dataset...\u001b[0m\n",
      "  0%|                                                     | 0/1 [00:00<?, ?it/s]\n",
      "\u001b[31m╭─\u001b[0m\u001b[31m────────────────────\u001b[0m\u001b[31m \u001b[0m\u001b[1;31mTraceback \u001b[0m\u001b[1;2;31m(most recent call last)\u001b[0m\u001b[31m \u001b[0m\u001b[31m─────────────────────\u001b[0m\u001b[31m─╮\u001b[0m\n",
      "\u001b[31m│\u001b[0m \u001b[2;33m/home/linx/code_workspace/makemore/env/lib/python3.10/site-packages/urllib3/\u001b[0m \u001b[31m│\u001b[0m\n",
      "\u001b[31m│\u001b[0m \u001b[1;33mconnection.py\u001b[0m:\u001b[94m198\u001b[0m in \u001b[92m_new_conn\u001b[0m                                               \u001b[31m│\u001b[0m\n",
      "\u001b[31m│\u001b[0m                                                                              \u001b[31m│\u001b[0m\n",
      "\u001b[31m│\u001b[0m   \u001b[2m195 \u001b[0m\u001b[2;33m│   │   \u001b[0m\u001b[33m:return: New socket connection.\u001b[0m                                \u001b[31m│\u001b[0m\n",
      "\u001b[31m│\u001b[0m   \u001b[2m196 \u001b[0m\u001b[2;33m│   │   \u001b[0m\u001b[33m\"\"\"\u001b[0m                                                            \u001b[31m│\u001b[0m\n",
      "\u001b[31m│\u001b[0m   \u001b[2m197 \u001b[0m\u001b[2m│   │   \u001b[0m\u001b[94mtry\u001b[0m:                                                           \u001b[31m│\u001b[0m\n",
      "\u001b[31m│\u001b[0m \u001b[31m❱ \u001b[0m198 \u001b[2m│   │   │   \u001b[0msock = connection.create_connection(                       \u001b[31m│\u001b[0m\n",
      "\u001b[31m│\u001b[0m   \u001b[2m199 \u001b[0m\u001b[2m│   │   │   │   \u001b[0m(\u001b[96mself\u001b[0m._dns_host, \u001b[96mself\u001b[0m.port),                           \u001b[31m│\u001b[0m\n",
      "\u001b[31m│\u001b[0m   \u001b[2m200 \u001b[0m\u001b[2m│   │   │   │   \u001b[0m\u001b[96mself\u001b[0m.timeout,                                          \u001b[31m│\u001b[0m\n",
      "\u001b[31m│\u001b[0m   \u001b[2m201 \u001b[0m\u001b[2m│   │   │   │   \u001b[0msource_address=\u001b[96mself\u001b[0m.source_address,                    \u001b[31m│\u001b[0m\n",
      "\u001b[31m│\u001b[0m                                                                              \u001b[31m│\u001b[0m\n",
      "\u001b[31m│\u001b[0m \u001b[33m╭─\u001b[0m\u001b[33m──────────────────────────────\u001b[0m\u001b[33m locals \u001b[0m\u001b[33m──────────────────────────────\u001b[0m\u001b[33m─╮\u001b[0m     \u001b[31m│\u001b[0m\n",
      "\u001b[31m│\u001b[0m \u001b[33m│\u001b[0m self = \u001b[1m<\u001b[0m\u001b[1;95murllib3.connection.HTTPSConnection\u001b[0m\u001b[39m object at \u001b[0m\u001b[94m0x7ee673eabeb0\u001b[0m\u001b[1m>\u001b[0m \u001b[33m│\u001b[0m     \u001b[31m│\u001b[0m\n",
      "\u001b[31m│\u001b[0m \u001b[33m╰──────────────────────────────────────────────────────────────────────╯\u001b[0m     \u001b[31m│\u001b[0m\n",
      "\u001b[31m│\u001b[0m                                                                              \u001b[31m│\u001b[0m\n",
      "\u001b[31m│\u001b[0m \u001b[2;33m/home/linx/code_workspace/makemore/env/lib/python3.10/site-packages/urllib3/\u001b[0m \u001b[31m│\u001b[0m\n",
      "\u001b[31m│\u001b[0m \u001b[2;33mutil/\u001b[0m\u001b[1;33mconnection.py\u001b[0m:\u001b[94m60\u001b[0m in \u001b[92mcreate_connection\u001b[0m                                   \u001b[31m│\u001b[0m\n",
      "\u001b[31m│\u001b[0m                                                                              \u001b[31m│\u001b[0m\n",
      "\u001b[31m│\u001b[0m   \u001b[2m 57 \u001b[0m\u001b[2m│   \u001b[0m\u001b[94mexcept\u001b[0m \u001b[96mUnicodeError\u001b[0m:                                               \u001b[31m│\u001b[0m\n",
      "\u001b[31m│\u001b[0m   \u001b[2m 58 \u001b[0m\u001b[2m│   │   \u001b[0m\u001b[94mraise\u001b[0m LocationParseError(\u001b[33mf\u001b[0m\u001b[33m\"\u001b[0m\u001b[33m'\u001b[0m\u001b[33m{\u001b[0mhost\u001b[33m}\u001b[0m\u001b[33m'\u001b[0m\u001b[33m, label empty or too long\u001b[0m\u001b[33m\"\u001b[0m) \u001b[31m│\u001b[0m\n",
      "\u001b[31m│\u001b[0m   \u001b[2m 59 \u001b[0m\u001b[2m│   \u001b[0m                                                                   \u001b[31m│\u001b[0m\n",
      "\u001b[31m│\u001b[0m \u001b[31m❱ \u001b[0m 60 \u001b[2m│   \u001b[0m\u001b[94mfor\u001b[0m res \u001b[95min\u001b[0m socket.getaddrinfo(host, port, family, socket.SOCK_STRE \u001b[31m│\u001b[0m\n",
      "\u001b[31m│\u001b[0m   \u001b[2m 61 \u001b[0m\u001b[2m│   │   \u001b[0maf, socktype, proto, canonname, sa = res                       \u001b[31m│\u001b[0m\n",
      "\u001b[31m│\u001b[0m   \u001b[2m 62 \u001b[0m\u001b[2m│   │   \u001b[0msock = \u001b[94mNone\u001b[0m                                                    \u001b[31m│\u001b[0m\n",
      "\u001b[31m│\u001b[0m   \u001b[2m 63 \u001b[0m\u001b[2m│   │   \u001b[0m\u001b[94mtry\u001b[0m:                                                           \u001b[31m│\u001b[0m\n",
      "\u001b[31m│\u001b[0m                                                                              \u001b[31m│\u001b[0m\n",
      "\u001b[31m│\u001b[0m \u001b[33m╭─\u001b[0m\u001b[33m─────────────────────\u001b[0m\u001b[33m locals \u001b[0m\u001b[33m──────────────────────\u001b[0m\u001b[33m─╮\u001b[0m                      \u001b[31m│\u001b[0m\n",
      "\u001b[31m│\u001b[0m \u001b[33m│\u001b[0m        address = \u001b[1m(\u001b[0m\u001b[33m'raw.githubusercontent.com'\u001b[0m, \u001b[94m443\u001b[0m\u001b[1m)\u001b[0m \u001b[33m│\u001b[0m                      \u001b[31m│\u001b[0m\n",
      "\u001b[31m│\u001b[0m \u001b[33m│\u001b[0m            err = \u001b[94mNone\u001b[0m                               \u001b[33m│\u001b[0m                      \u001b[31m│\u001b[0m\n",
      "\u001b[31m│\u001b[0m \u001b[33m│\u001b[0m         family = \u001b[1m<\u001b[0m\u001b[1;95mAddressFamily.AF_UNSPEC:\u001b[0m\u001b[39m \u001b[0m\u001b[94m0\u001b[0m\u001b[1m>\u001b[0m       \u001b[33m│\u001b[0m                      \u001b[31m│\u001b[0m\n",
      "\u001b[31m│\u001b[0m \u001b[33m│\u001b[0m           host = \u001b[33m'raw.githubusercontent.com'\u001b[0m        \u001b[33m│\u001b[0m                      \u001b[31m│\u001b[0m\n",
      "\u001b[31m│\u001b[0m \u001b[33m│\u001b[0m           port = \u001b[94m443\u001b[0m                                \u001b[33m│\u001b[0m                      \u001b[31m│\u001b[0m\n",
      "\u001b[31m│\u001b[0m \u001b[33m│\u001b[0m socket_options = \u001b[1m[\u001b[0m\u001b[1m(\u001b[0m\u001b[94m6\u001b[0m, \u001b[94m1\u001b[0m, \u001b[94m1\u001b[0m\u001b[1m)\u001b[0m\u001b[1m]\u001b[0m                        \u001b[33m│\u001b[0m                      \u001b[31m│\u001b[0m\n",
      "\u001b[31m│\u001b[0m \u001b[33m│\u001b[0m source_address = \u001b[94mNone\u001b[0m                               \u001b[33m│\u001b[0m                      \u001b[31m│\u001b[0m\n",
      "\u001b[31m│\u001b[0m \u001b[33m│\u001b[0m        timeout = \u001b[94mNone\u001b[0m                               \u001b[33m│\u001b[0m                      \u001b[31m│\u001b[0m\n",
      "\u001b[31m│\u001b[0m \u001b[33m╰─────────────────────────────────────────────────────╯\u001b[0m                      \u001b[31m│\u001b[0m\n",
      "\u001b[31m│\u001b[0m                                                                              \u001b[31m│\u001b[0m\n",
      "\u001b[31m│\u001b[0m \u001b[2;33m/usr/lib/python3.10/\u001b[0m\u001b[1;33msocket.py\u001b[0m:\u001b[94m955\u001b[0m in \u001b[92mgetaddrinfo\u001b[0m                             \u001b[31m│\u001b[0m\n",
      "\u001b[31m│\u001b[0m                                                                              \u001b[31m│\u001b[0m\n",
      "\u001b[31m│\u001b[0m   \u001b[2m952 \u001b[0m\u001b[2m│   \u001b[0m\u001b[2m# We override this function since we want to translate the numeric\u001b[0m \u001b[31m│\u001b[0m\n",
      "\u001b[31m│\u001b[0m   \u001b[2m953 \u001b[0m\u001b[2m│   \u001b[0m\u001b[2m# and socket type values to enum constants.\u001b[0m                        \u001b[31m│\u001b[0m\n",
      "\u001b[31m│\u001b[0m   \u001b[2m954 \u001b[0m\u001b[2m│   \u001b[0maddrlist = []                                                      \u001b[31m│\u001b[0m\n",
      "\u001b[31m│\u001b[0m \u001b[31m❱ \u001b[0m955 \u001b[2m│   \u001b[0m\u001b[94mfor\u001b[0m res \u001b[95min\u001b[0m _socket.getaddrinfo(host, port, family, \u001b[96mtype\u001b[0m, proto, fl \u001b[31m│\u001b[0m\n",
      "\u001b[31m│\u001b[0m   \u001b[2m956 \u001b[0m\u001b[2m│   │   \u001b[0maf, socktype, proto, canonname, sa = res                       \u001b[31m│\u001b[0m\n",
      "\u001b[31m│\u001b[0m   \u001b[2m957 \u001b[0m\u001b[2m│   │   \u001b[0maddrlist.append((_intenum_converter(af, AddressFamily),        \u001b[31m│\u001b[0m\n",
      "\u001b[31m│\u001b[0m   \u001b[2m958 \u001b[0m\u001b[2m│   │   │   │   │   │    \u001b[0m_intenum_converter(socktype, SocketKind),     \u001b[31m│\u001b[0m\n",
      "\u001b[31m│\u001b[0m                                                                              \u001b[31m│\u001b[0m\n",
      "\u001b[31m│\u001b[0m \u001b[33m╭─\u001b[0m\u001b[33m───────────────\u001b[0m\u001b[33m locals \u001b[0m\u001b[33m────────────────\u001b[0m\u001b[33m─╮\u001b[0m                                  \u001b[31m│\u001b[0m\n",
      "\u001b[31m│\u001b[0m \u001b[33m│\u001b[0m addrlist = \u001b[1m[\u001b[0m\u001b[1m]\u001b[0m                           \u001b[33m│\u001b[0m                                  \u001b[31m│\u001b[0m\n",
      "\u001b[31m│\u001b[0m \u001b[33m│\u001b[0m   family = \u001b[1m<\u001b[0m\u001b[1;95mAddressFamily.AF_UNSPEC:\u001b[0m\u001b[39m \u001b[0m\u001b[94m0\u001b[0m\u001b[1m>\u001b[0m \u001b[33m│\u001b[0m                                  \u001b[31m│\u001b[0m\n",
      "\u001b[31m│\u001b[0m \u001b[33m│\u001b[0m    flags = \u001b[94m0\u001b[0m                            \u001b[33m│\u001b[0m                                  \u001b[31m│\u001b[0m\n",
      "\u001b[31m│\u001b[0m \u001b[33m│\u001b[0m     host = \u001b[33m'raw.githubusercontent.com'\u001b[0m  \u001b[33m│\u001b[0m                                  \u001b[31m│\u001b[0m\n",
      "\u001b[31m│\u001b[0m \u001b[33m│\u001b[0m     port = \u001b[94m443\u001b[0m                          \u001b[33m│\u001b[0m                                  \u001b[31m│\u001b[0m\n",
      "\u001b[31m│\u001b[0m \u001b[33m│\u001b[0m    proto = \u001b[94m0\u001b[0m                            \u001b[33m│\u001b[0m                                  \u001b[31m│\u001b[0m\n",
      "\u001b[31m│\u001b[0m \u001b[33m│\u001b[0m     type = \u001b[1m<\u001b[0m\u001b[1;95mSocketKind.SOCK_STREAM:\u001b[0m\u001b[39m \u001b[0m\u001b[94m1\u001b[0m\u001b[1m>\u001b[0m  \u001b[33m│\u001b[0m                                  \u001b[31m│\u001b[0m\n",
      "\u001b[31m│\u001b[0m \u001b[33m╰─────────────────────────────────────────╯\u001b[0m                                  \u001b[31m│\u001b[0m\n",
      "\u001b[31m╰──────────────────────────────────────────────────────────────────────────────╯\u001b[0m\n",
      "\u001b[1;91mgaierror: \u001b[0m\u001b[1m[\u001b[0mErrno \u001b[1;36m-3\u001b[0m\u001b[1m]\u001b[0m Temporary failure in name resolution\n",
      "\n",
      "\u001b[3mThe above exception was the direct cause of the following exception:\u001b[0m\n",
      "\n",
      "\u001b[31m╭─\u001b[0m\u001b[31m────────────────────\u001b[0m\u001b[31m \u001b[0m\u001b[1;31mTraceback \u001b[0m\u001b[1;2;31m(most recent call last)\u001b[0m\u001b[31m \u001b[0m\u001b[31m─────────────────────\u001b[0m\u001b[31m─╮\u001b[0m\n",
      "\u001b[31m│\u001b[0m \u001b[2;33m/home/linx/code_workspace/makemore/env/lib/python3.10/site-packages/urllib3/\u001b[0m \u001b[31m│\u001b[0m\n",
      "\u001b[31m│\u001b[0m \u001b[1;33mconnectionpool.py\u001b[0m:\u001b[94m793\u001b[0m in \u001b[92murlopen\u001b[0m                                             \u001b[31m│\u001b[0m\n",
      "\u001b[31m│\u001b[0m                                                                              \u001b[31m│\u001b[0m\n",
      "\u001b[31m│\u001b[0m   \u001b[2m 790 \u001b[0m\u001b[2m│   │   │   \u001b[0mresponse_conn = conn \u001b[94mif\u001b[0m \u001b[95mnot\u001b[0m release_conn \u001b[94melse\u001b[0m \u001b[94mNone\u001b[0m        \u001b[31m│\u001b[0m\n",
      "\u001b[31m│\u001b[0m   \u001b[2m 791 \u001b[0m\u001b[2m│   │   │   \u001b[0m                                                          \u001b[31m│\u001b[0m\n",
      "\u001b[31m│\u001b[0m   \u001b[2m 792 \u001b[0m\u001b[2m│   │   │   \u001b[0m\u001b[2m# Make the request on the HTTPConnection object\u001b[0m           \u001b[31m│\u001b[0m\n",
      "\u001b[31m│\u001b[0m \u001b[31m❱ \u001b[0m 793 \u001b[2m│   │   │   \u001b[0mresponse = \u001b[96mself\u001b[0m._make_request(                            \u001b[31m│\u001b[0m\n",
      "\u001b[31m│\u001b[0m   \u001b[2m 794 \u001b[0m\u001b[2m│   │   │   │   \u001b[0mconn,                                                 \u001b[31m│\u001b[0m\n",
      "\u001b[31m│\u001b[0m   \u001b[2m 795 \u001b[0m\u001b[2m│   │   │   │   \u001b[0mmethod,                                               \u001b[31m│\u001b[0m\n",
      "\u001b[31m│\u001b[0m   \u001b[2m 796 \u001b[0m\u001b[2m│   │   │   │   \u001b[0murl,                                                  \u001b[31m│\u001b[0m\n",
      "\u001b[31m│\u001b[0m                                                                              \u001b[31m│\u001b[0m\n",
      "\u001b[31m│\u001b[0m \u001b[33m╭─\u001b[0m\u001b[33m────────────────────────────────\u001b[0m\u001b[33m locals \u001b[0m\u001b[33m────────────────────────────────\u001b[0m\u001b[33m─╮\u001b[0m \u001b[31m│\u001b[0m\n",
      "\u001b[31m│\u001b[0m \u001b[33m│\u001b[0m     assert_same_host = \u001b[94mFalse\u001b[0m                                             \u001b[33m│\u001b[0m \u001b[31m│\u001b[0m\n",
      "\u001b[31m│\u001b[0m \u001b[33m│\u001b[0m                 body = \u001b[94mNone\u001b[0m                                              \u001b[33m│\u001b[0m \u001b[31m│\u001b[0m\n",
      "\u001b[31m│\u001b[0m \u001b[33m│\u001b[0m             body_pos = \u001b[94mNone\u001b[0m                                              \u001b[33m│\u001b[0m \u001b[31m│\u001b[0m\n",
      "\u001b[31m│\u001b[0m \u001b[33m│\u001b[0m              chunked = \u001b[94mFalse\u001b[0m                                             \u001b[33m│\u001b[0m \u001b[31m│\u001b[0m\n",
      "\u001b[31m│\u001b[0m \u001b[33m│\u001b[0m           clean_exit = \u001b[94mFalse\u001b[0m                                             \u001b[33m│\u001b[0m \u001b[31m│\u001b[0m\n",
      "\u001b[31m│\u001b[0m \u001b[33m│\u001b[0m                 conn = \u001b[94mNone\u001b[0m                                              \u001b[33m│\u001b[0m \u001b[31m│\u001b[0m\n",
      "\u001b[31m│\u001b[0m \u001b[33m│\u001b[0m       decode_content = \u001b[94mFalse\u001b[0m                                             \u001b[33m│\u001b[0m \u001b[31m│\u001b[0m\n",
      "\u001b[31m│\u001b[0m \u001b[33m│\u001b[0m   destination_scheme = \u001b[94mNone\u001b[0m                                              \u001b[33m│\u001b[0m \u001b[31m│\u001b[0m\n",
      "\u001b[31m│\u001b[0m \u001b[33m│\u001b[0m                  err = \u001b[94mNone\u001b[0m                                              \u001b[33m│\u001b[0m \u001b[31m│\u001b[0m\n",
      "\u001b[31m│\u001b[0m \u001b[33m│\u001b[0m              headers = \u001b[1m{\u001b[0m\u001b[33m'User-Agent'\u001b[0m: \u001b[33m'python-requests/2.32.3'\u001b[0m,          \u001b[33m│\u001b[0m \u001b[31m│\u001b[0m\n",
      "\u001b[31m│\u001b[0m \u001b[33m│\u001b[0m                        \u001b[33m'Accept-Encoding'\u001b[0m: \u001b[33m'gzip, deflate'\u001b[0m, \u001b[33m'Accept'\u001b[0m:     \u001b[33m│\u001b[0m \u001b[31m│\u001b[0m\n",
      "\u001b[31m│\u001b[0m \u001b[33m│\u001b[0m                        \u001b[33m'*/*'\u001b[0m, \u001b[33m'Connection'\u001b[0m: \u001b[33m'keep-alive'\u001b[0m\u001b[1m}\u001b[0m                \u001b[33m│\u001b[0m \u001b[31m│\u001b[0m\n",
      "\u001b[31m│\u001b[0m \u001b[33m│\u001b[0m http_tunnel_required = \u001b[94mFalse\u001b[0m                                             \u001b[33m│\u001b[0m \u001b[31m│\u001b[0m\n",
      "\u001b[31m│\u001b[0m \u001b[33m│\u001b[0m               method = \u001b[33m'GET'\u001b[0m                                             \u001b[33m│\u001b[0m \u001b[31m│\u001b[0m\n",
      "\u001b[31m│\u001b[0m \u001b[33m│\u001b[0m                new_e = \u001b[1;35mNameResolutionError\u001b[0m\u001b[1m(\u001b[0m\u001b[33m\"\u001b[0m\u001b[1;33m<\u001b[0m\u001b[1;33murllib3.connection.HTTPSCo…\u001b[0m \u001b[33m│\u001b[0m \u001b[31m│\u001b[0m\n",
      "\u001b[31m│\u001b[0m \u001b[33m│\u001b[0m                        \u001b[33mobject at 0x7ee673eabeb0\u001b[0m\u001b[1;33m>\u001b[0m\u001b[33m: Failed to resolve \u001b[0m     \u001b[33m│\u001b[0m \u001b[31m│\u001b[0m\n",
      "\u001b[31m│\u001b[0m \u001b[33m│\u001b[0m                        \u001b[33m'raw.githubusercontent.com' \u001b[0m\u001b[1;33m(\u001b[0m\u001b[1;33m[\u001b[0m\u001b[33mErrno -3\u001b[0m\u001b[1;33m]\u001b[0m\u001b[33m Temporary\u001b[0m \u001b[33m│\u001b[0m \u001b[31m│\u001b[0m\n",
      "\u001b[31m│\u001b[0m \u001b[33m│\u001b[0m                        \u001b[33mfailure in name resolution\u001b[0m\u001b[1;33m)\u001b[0m\u001b[33m\"\u001b[0m\u001b[1m)\u001b[0m                     \u001b[33m│\u001b[0m \u001b[31m│\u001b[0m\n",
      "\u001b[31m│\u001b[0m \u001b[33m│\u001b[0m           parsed_url = \u001b[1;35mUrl\u001b[0m\u001b[1m(\u001b[0m                                              \u001b[33m│\u001b[0m \u001b[31m│\u001b[0m\n",
      "\u001b[31m│\u001b[0m \u001b[33m│\u001b[0m                        \u001b[2m│   \u001b[0m\u001b[33mscheme\u001b[0m=\u001b[94mNone\u001b[0m,                                  \u001b[33m│\u001b[0m \u001b[31m│\u001b[0m\n",
      "\u001b[31m│\u001b[0m \u001b[33m│\u001b[0m                        \u001b[2m│   \u001b[0m\u001b[33mauth\u001b[0m=\u001b[94mNone\u001b[0m,                                    \u001b[33m│\u001b[0m \u001b[31m│\u001b[0m\n",
      "\u001b[31m│\u001b[0m \u001b[33m│\u001b[0m                        \u001b[2m│   \u001b[0m\u001b[33mhost\u001b[0m=\u001b[94mNone\u001b[0m,                                    \u001b[33m│\u001b[0m \u001b[31m│\u001b[0m\n",
      "\u001b[31m│\u001b[0m \u001b[33m│\u001b[0m                        \u001b[2m│   \u001b[0m\u001b[33mport\u001b[0m=\u001b[94mNone\u001b[0m,                                    \u001b[33m│\u001b[0m \u001b[31m│\u001b[0m\n",
      "\u001b[31m│\u001b[0m \u001b[33m│\u001b[0m                        \u001b[2m│   \u001b[0m\u001b[33mpath\u001b[0m=\u001b[33m'/karpathy/makemore/master/names.txt'\u001b[0m,   \u001b[33m│\u001b[0m \u001b[31m│\u001b[0m\n",
      "\u001b[31m│\u001b[0m \u001b[33m│\u001b[0m                        \u001b[2m│   \u001b[0m\u001b[33mquery\u001b[0m=\u001b[94mNone\u001b[0m,                                   \u001b[33m│\u001b[0m \u001b[31m│\u001b[0m\n",
      "\u001b[31m│\u001b[0m \u001b[33m│\u001b[0m                        \u001b[2m│   \u001b[0m\u001b[33mfragment\u001b[0m=\u001b[94mNone\u001b[0m                                 \u001b[33m│\u001b[0m \u001b[31m│\u001b[0m\n",
      "\u001b[31m│\u001b[0m \u001b[33m│\u001b[0m                        \u001b[1m)\u001b[0m                                                 \u001b[33m│\u001b[0m \u001b[31m│\u001b[0m\n",
      "\u001b[31m│\u001b[0m \u001b[33m│\u001b[0m         pool_timeout = \u001b[94mNone\u001b[0m                                              \u001b[33m│\u001b[0m \u001b[31m│\u001b[0m\n",
      "\u001b[31m│\u001b[0m \u001b[33m│\u001b[0m      preload_content = \u001b[94mFalse\u001b[0m                                             \u001b[33m│\u001b[0m \u001b[31m│\u001b[0m\n",
      "\u001b[31m│\u001b[0m \u001b[33m│\u001b[0m             redirect = \u001b[94mFalse\u001b[0m                                             \u001b[33m│\u001b[0m \u001b[31m│\u001b[0m\n",
      "\u001b[31m│\u001b[0m \u001b[33m│\u001b[0m         release_conn = \u001b[94mFalse\u001b[0m                                             \u001b[33m│\u001b[0m \u001b[31m│\u001b[0m\n",
      "\u001b[31m│\u001b[0m \u001b[33m│\u001b[0m    release_this_conn = \u001b[94mTrue\u001b[0m                                              \u001b[33m│\u001b[0m \u001b[31m│\u001b[0m\n",
      "\u001b[31m│\u001b[0m \u001b[33m│\u001b[0m        response_conn = \u001b[1m<\u001b[0m\u001b[1;95murllib3.connection.HTTPSConnection\u001b[0m\u001b[39m object at \u001b[0m    \u001b[33m│\u001b[0m \u001b[31m│\u001b[0m\n",
      "\u001b[31m│\u001b[0m \u001b[33m│\u001b[0m                        \u001b[94m0x7ee673eabeb0\u001b[0m\u001b[1m>\u001b[0m                                   \u001b[33m│\u001b[0m \u001b[31m│\u001b[0m\n",
      "\u001b[31m│\u001b[0m \u001b[33m│\u001b[0m          response_kw = \u001b[1m{\u001b[0m\u001b[1m}\u001b[0m                                                \u001b[33m│\u001b[0m \u001b[31m│\u001b[0m\n",
      "\u001b[31m│\u001b[0m \u001b[33m│\u001b[0m              retries = \u001b[1;35mRetry\u001b[0m\u001b[1m(\u001b[0m\u001b[33mtotal\u001b[0m=\u001b[94m0\u001b[0m, \u001b[33mconnect\u001b[0m=\u001b[94mNone\u001b[0m, \u001b[33mread\u001b[0m=\u001b[94mFalse\u001b[0m,          \u001b[33m│\u001b[0m \u001b[31m│\u001b[0m\n",
      "\u001b[31m│\u001b[0m \u001b[33m│\u001b[0m                        \u001b[33mredirect\u001b[0m=\u001b[94mNone\u001b[0m, \u001b[33mstatus\u001b[0m=\u001b[94mNone\u001b[0m\u001b[1m)\u001b[0m                       \u001b[33m│\u001b[0m \u001b[31m│\u001b[0m\n",
      "\u001b[31m│\u001b[0m \u001b[33m│\u001b[0m                 self = \u001b[1m<\u001b[0m\u001b[1;95murllib3.connectionpool.HTTPSConnectionPool\u001b[0m\u001b[39m \u001b[0m      \u001b[33m│\u001b[0m \u001b[31m│\u001b[0m\n",
      "\u001b[31m│\u001b[0m \u001b[33m│\u001b[0m                        \u001b[39mobject at \u001b[0m\u001b[94m0x7ee673eab6d0\u001b[0m\u001b[1m>\u001b[0m                         \u001b[33m│\u001b[0m \u001b[31m│\u001b[0m\n",
      "\u001b[31m│\u001b[0m \u001b[33m│\u001b[0m              timeout = \u001b[1;35mTimeout\u001b[0m\u001b[1m(\u001b[0m\u001b[33mconnect\u001b[0m=\u001b[94mNone\u001b[0m, \u001b[33mread\u001b[0m=\u001b[94mNone\u001b[0m, \u001b[33mtotal\u001b[0m=\u001b[94mNone\u001b[0m\u001b[1m)\u001b[0m      \u001b[33m│\u001b[0m \u001b[31m│\u001b[0m\n",
      "\u001b[31m│\u001b[0m \u001b[33m│\u001b[0m          timeout_obj = \u001b[1;35mTimeout\u001b[0m\u001b[1m(\u001b[0m\u001b[33mconnect\u001b[0m=\u001b[94mNone\u001b[0m, \u001b[33mread\u001b[0m=\u001b[94mNone\u001b[0m, \u001b[33mtotal\u001b[0m=\u001b[94mNone\u001b[0m\u001b[1m)\u001b[0m      \u001b[33m│\u001b[0m \u001b[31m│\u001b[0m\n",
      "\u001b[31m│\u001b[0m \u001b[33m│\u001b[0m                  url = \u001b[33m'/karpathy/makemore/master/names.txt'\u001b[0m             \u001b[33m│\u001b[0m \u001b[31m│\u001b[0m\n",
      "\u001b[31m│\u001b[0m \u001b[33m╰──────────────────────────────────────────────────────────────────────────╯\u001b[0m \u001b[31m│\u001b[0m\n",
      "\u001b[31m│\u001b[0m                                                                              \u001b[31m│\u001b[0m\n",
      "\u001b[31m│\u001b[0m \u001b[2;33m/home/linx/code_workspace/makemore/env/lib/python3.10/site-packages/urllib3/\u001b[0m \u001b[31m│\u001b[0m\n",
      "\u001b[31m│\u001b[0m \u001b[1;33mconnectionpool.py\u001b[0m:\u001b[94m491\u001b[0m in \u001b[92m_make_request\u001b[0m                                       \u001b[31m│\u001b[0m\n",
      "\u001b[31m│\u001b[0m                                                                              \u001b[31m│\u001b[0m\n",
      "\u001b[31m│\u001b[0m   \u001b[2m 488 \u001b[0m\u001b[2m│   │   │   │   \u001b[0mnew_e, (\u001b[96mOSError\u001b[0m, NewConnectionError, \u001b[96mTimeoutError\u001b[0m, SS \u001b[31m│\u001b[0m\n",
      "\u001b[31m│\u001b[0m   \u001b[2m 489 \u001b[0m\u001b[2m│   │   │   \u001b[0m) \u001b[95mand\u001b[0m (conn \u001b[95mand\u001b[0m conn.proxy \u001b[95mand\u001b[0m \u001b[95mnot\u001b[0m conn.has_connected_to_ \u001b[31m│\u001b[0m\n",
      "\u001b[31m│\u001b[0m   \u001b[2m 490 \u001b[0m\u001b[2m│   │   │   │   \u001b[0mnew_e = _wrap_proxy_error(new_e, conn.proxy.scheme)   \u001b[31m│\u001b[0m\n",
      "\u001b[31m│\u001b[0m \u001b[31m❱ \u001b[0m 491 \u001b[2m│   │   │   \u001b[0m\u001b[94mraise\u001b[0m new_e                                               \u001b[31m│\u001b[0m\n",
      "\u001b[31m│\u001b[0m   \u001b[2m 492 \u001b[0m\u001b[2m│   │   \u001b[0m                                                              \u001b[31m│\u001b[0m\n",
      "\u001b[31m│\u001b[0m   \u001b[2m 493 \u001b[0m\u001b[2m│   │   \u001b[0m\u001b[2m# conn.request() calls http.client.*.request, not the method \u001b[0m \u001b[31m│\u001b[0m\n",
      "\u001b[31m│\u001b[0m   \u001b[2m 494 \u001b[0m\u001b[2m│   │   \u001b[0m\u001b[2m# urllib3.request. It also calls makefile (recv) on the socke\u001b[0m \u001b[31m│\u001b[0m\n",
      "\u001b[31m│\u001b[0m                                                                              \u001b[31m│\u001b[0m\n",
      "\u001b[31m│\u001b[0m \u001b[33m╭─\u001b[0m\u001b[33m────────────────────────────────\u001b[0m\u001b[33m locals \u001b[0m\u001b[33m────────────────────────────────\u001b[0m\u001b[33m─╮\u001b[0m \u001b[31m│\u001b[0m\n",
      "\u001b[31m│\u001b[0m \u001b[33m│\u001b[0m                   body = \u001b[94mNone\u001b[0m                                            \u001b[33m│\u001b[0m \u001b[31m│\u001b[0m\n",
      "\u001b[31m│\u001b[0m \u001b[33m│\u001b[0m                chunked = \u001b[94mFalse\u001b[0m                                           \u001b[33m│\u001b[0m \u001b[31m│\u001b[0m\n",
      "\u001b[31m│\u001b[0m \u001b[33m│\u001b[0m                   conn = \u001b[1m<\u001b[0m\u001b[1;95murllib3.connection.HTTPSConnection\u001b[0m\u001b[39m object at \u001b[0m  \u001b[33m│\u001b[0m \u001b[31m│\u001b[0m\n",
      "\u001b[31m│\u001b[0m \u001b[33m│\u001b[0m                          \u001b[94m0x7ee673eabeb0\u001b[0m\u001b[1m>\u001b[0m                                 \u001b[33m│\u001b[0m \u001b[31m│\u001b[0m\n",
      "\u001b[31m│\u001b[0m \u001b[33m│\u001b[0m         decode_content = \u001b[94mFalse\u001b[0m                                           \u001b[33m│\u001b[0m \u001b[31m│\u001b[0m\n",
      "\u001b[31m│\u001b[0m \u001b[33m│\u001b[0m enforce_content_length = \u001b[94mTrue\u001b[0m                                            \u001b[33m│\u001b[0m \u001b[31m│\u001b[0m\n",
      "\u001b[31m│\u001b[0m \u001b[33m│\u001b[0m                headers = \u001b[1m{\u001b[0m\u001b[33m'User-Agent'\u001b[0m: \u001b[33m'python-requests/2.32.3'\u001b[0m,        \u001b[33m│\u001b[0m \u001b[31m│\u001b[0m\n",
      "\u001b[31m│\u001b[0m \u001b[33m│\u001b[0m                          \u001b[33m'Accept-Encoding'\u001b[0m: \u001b[33m'gzip, deflate'\u001b[0m, \u001b[33m'Accept'\u001b[0m:   \u001b[33m│\u001b[0m \u001b[31m│\u001b[0m\n",
      "\u001b[31m│\u001b[0m \u001b[33m│\u001b[0m                          \u001b[33m'*/*'\u001b[0m, \u001b[33m'Connection'\u001b[0m: \u001b[33m'keep-alive'\u001b[0m\u001b[1m}\u001b[0m              \u001b[33m│\u001b[0m \u001b[31m│\u001b[0m\n",
      "\u001b[31m│\u001b[0m \u001b[33m│\u001b[0m                 method = \u001b[33m'GET'\u001b[0m                                           \u001b[33m│\u001b[0m \u001b[31m│\u001b[0m\n",
      "\u001b[31m│\u001b[0m \u001b[33m│\u001b[0m                  new_e = \u001b[1;35mNameResolutionError\u001b[0m\u001b[1m(\u001b[0m\u001b[33m\"\u001b[0m\u001b[1;33m<\u001b[0m\u001b[1;33murllib3.connection.HTTPS…\u001b[0m \u001b[33m│\u001b[0m \u001b[31m│\u001b[0m\n",
      "\u001b[31m│\u001b[0m \u001b[33m│\u001b[0m                          \u001b[33mobject at 0x7ee673eabeb0\u001b[0m\u001b[1;33m>\u001b[0m\u001b[33m: Failed to resolve \u001b[0m   \u001b[33m│\u001b[0m \u001b[31m│\u001b[0m\n",
      "\u001b[31m│\u001b[0m \u001b[33m│\u001b[0m                          \u001b[33m'raw.githubusercontent.com' \u001b[0m\u001b[1;33m(\u001b[0m\u001b[1;33m[\u001b[0m\u001b[33mErrno -3\u001b[0m\u001b[1;33m]\u001b[0m\u001b[33m \u001b[0m        \u001b[33m│\u001b[0m \u001b[31m│\u001b[0m\n",
      "\u001b[31m│\u001b[0m \u001b[33m│\u001b[0m                          \u001b[33mTemporary failure in name resolution\u001b[0m\u001b[1;33m)\u001b[0m\u001b[33m\"\u001b[0m\u001b[1m)\u001b[0m         \u001b[33m│\u001b[0m \u001b[31m│\u001b[0m\n",
      "\u001b[31m│\u001b[0m \u001b[33m│\u001b[0m        preload_content = \u001b[94mFalse\u001b[0m                                           \u001b[33m│\u001b[0m \u001b[31m│\u001b[0m\n",
      "\u001b[31m│\u001b[0m \u001b[33m│\u001b[0m          response_conn = \u001b[1m<\u001b[0m\u001b[1;95murllib3.connection.HTTPSConnection\u001b[0m\u001b[39m object at \u001b[0m  \u001b[33m│\u001b[0m \u001b[31m│\u001b[0m\n",
      "\u001b[31m│\u001b[0m \u001b[33m│\u001b[0m                          \u001b[94m0x7ee673eabeb0\u001b[0m\u001b[1m>\u001b[0m                                 \u001b[33m│\u001b[0m \u001b[31m│\u001b[0m\n",
      "\u001b[31m│\u001b[0m \u001b[33m│\u001b[0m                retries = \u001b[1;35mRetry\u001b[0m\u001b[1m(\u001b[0m\u001b[33mtotal\u001b[0m=\u001b[94m0\u001b[0m, \u001b[33mconnect\u001b[0m=\u001b[94mNone\u001b[0m, \u001b[33mread\u001b[0m=\u001b[94mFalse\u001b[0m,        \u001b[33m│\u001b[0m \u001b[31m│\u001b[0m\n",
      "\u001b[31m│\u001b[0m \u001b[33m│\u001b[0m                          \u001b[33mredirect\u001b[0m=\u001b[94mNone\u001b[0m, \u001b[33mstatus\u001b[0m=\u001b[94mNone\u001b[0m\u001b[1m)\u001b[0m                     \u001b[33m│\u001b[0m \u001b[31m│\u001b[0m\n",
      "\u001b[31m│\u001b[0m \u001b[33m│\u001b[0m                   self = \u001b[1m<\u001b[0m\u001b[1;95murllib3.connectionpool.HTTPSConnectionPool\u001b[0m\u001b[39m \u001b[0m    \u001b[33m│\u001b[0m \u001b[31m│\u001b[0m\n",
      "\u001b[31m│\u001b[0m \u001b[33m│\u001b[0m                          \u001b[39mobject at \u001b[0m\u001b[94m0x7ee673eab6d0\u001b[0m\u001b[1m>\u001b[0m                       \u001b[33m│\u001b[0m \u001b[31m│\u001b[0m\n",
      "\u001b[31m│\u001b[0m \u001b[33m│\u001b[0m                timeout = \u001b[1;35mTimeout\u001b[0m\u001b[1m(\u001b[0m\u001b[33mconnect\u001b[0m=\u001b[94mNone\u001b[0m, \u001b[33mread\u001b[0m=\u001b[94mNone\u001b[0m, \u001b[33mtotal\u001b[0m=\u001b[94mNone\u001b[0m\u001b[1m)\u001b[0m    \u001b[33m│\u001b[0m \u001b[31m│\u001b[0m\n",
      "\u001b[31m│\u001b[0m \u001b[33m│\u001b[0m            timeout_obj = \u001b[1;35mTimeout\u001b[0m\u001b[1m(\u001b[0m\u001b[33mconnect\u001b[0m=\u001b[94mNone\u001b[0m, \u001b[33mread\u001b[0m=\u001b[94mNone\u001b[0m, \u001b[33mtotal\u001b[0m=\u001b[94mNone\u001b[0m\u001b[1m)\u001b[0m    \u001b[33m│\u001b[0m \u001b[31m│\u001b[0m\n",
      "\u001b[31m│\u001b[0m \u001b[33m│\u001b[0m                    url = \u001b[33m'/karpathy/makemore/master/names.txt'\u001b[0m           \u001b[33m│\u001b[0m \u001b[31m│\u001b[0m\n",
      "\u001b[31m│\u001b[0m \u001b[33m╰──────────────────────────────────────────────────────────────────────────╯\u001b[0m \u001b[31m│\u001b[0m\n",
      "\u001b[31m│\u001b[0m                                                                              \u001b[31m│\u001b[0m\n",
      "\u001b[31m│\u001b[0m \u001b[2;33m/home/linx/code_workspace/makemore/env/lib/python3.10/site-packages/urllib3/\u001b[0m \u001b[31m│\u001b[0m\n",
      "\u001b[31m│\u001b[0m \u001b[1;33mconnectionpool.py\u001b[0m:\u001b[94m467\u001b[0m in \u001b[92m_make_request\u001b[0m                                       \u001b[31m│\u001b[0m\n",
      "\u001b[31m│\u001b[0m                                                                              \u001b[31m│\u001b[0m\n",
      "\u001b[31m│\u001b[0m   \u001b[2m 464 \u001b[0m\u001b[2m│   │   \u001b[0m\u001b[94mtry\u001b[0m:                                                          \u001b[31m│\u001b[0m\n",
      "\u001b[31m│\u001b[0m   \u001b[2m 465 \u001b[0m\u001b[2m│   │   │   \u001b[0m\u001b[2m# Trigger any extra validation we need to do.\u001b[0m             \u001b[31m│\u001b[0m\n",
      "\u001b[31m│\u001b[0m   \u001b[2m 466 \u001b[0m\u001b[2m│   │   │   \u001b[0m\u001b[94mtry\u001b[0m:                                                      \u001b[31m│\u001b[0m\n",
      "\u001b[31m│\u001b[0m \u001b[31m❱ \u001b[0m 467 \u001b[2m│   │   │   │   \u001b[0m\u001b[96mself\u001b[0m._validate_conn(conn)                             \u001b[31m│\u001b[0m\n",
      "\u001b[31m│\u001b[0m   \u001b[2m 468 \u001b[0m\u001b[2m│   │   │   \u001b[0m\u001b[94mexcept\u001b[0m (SocketTimeout, BaseSSLError) \u001b[94mas\u001b[0m e:                \u001b[31m│\u001b[0m\n",
      "\u001b[31m│\u001b[0m   \u001b[2m 469 \u001b[0m\u001b[2m│   │   │   │   \u001b[0m\u001b[96mself\u001b[0m._raise_timeout(err=e, url=url, timeout_value=con \u001b[31m│\u001b[0m\n",
      "\u001b[31m│\u001b[0m   \u001b[2m 470 \u001b[0m\u001b[2m│   │   │   │   \u001b[0m\u001b[94mraise\u001b[0m                                                 \u001b[31m│\u001b[0m\n",
      "\u001b[31m│\u001b[0m                                                                              \u001b[31m│\u001b[0m\n",
      "\u001b[31m│\u001b[0m \u001b[33m╭─\u001b[0m\u001b[33m────────────────────────────────\u001b[0m\u001b[33m locals \u001b[0m\u001b[33m────────────────────────────────\u001b[0m\u001b[33m─╮\u001b[0m \u001b[31m│\u001b[0m\n",
      "\u001b[31m│\u001b[0m \u001b[33m│\u001b[0m                   body = \u001b[94mNone\u001b[0m                                            \u001b[33m│\u001b[0m \u001b[31m│\u001b[0m\n",
      "\u001b[31m│\u001b[0m \u001b[33m│\u001b[0m                chunked = \u001b[94mFalse\u001b[0m                                           \u001b[33m│\u001b[0m \u001b[31m│\u001b[0m\n",
      "\u001b[31m│\u001b[0m \u001b[33m│\u001b[0m                   conn = \u001b[1m<\u001b[0m\u001b[1;95murllib3.connection.HTTPSConnection\u001b[0m\u001b[39m object at \u001b[0m  \u001b[33m│\u001b[0m \u001b[31m│\u001b[0m\n",
      "\u001b[31m│\u001b[0m \u001b[33m│\u001b[0m                          \u001b[94m0x7ee673eabeb0\u001b[0m\u001b[1m>\u001b[0m                                 \u001b[33m│\u001b[0m \u001b[31m│\u001b[0m\n",
      "\u001b[31m│\u001b[0m \u001b[33m│\u001b[0m         decode_content = \u001b[94mFalse\u001b[0m                                           \u001b[33m│\u001b[0m \u001b[31m│\u001b[0m\n",
      "\u001b[31m│\u001b[0m \u001b[33m│\u001b[0m enforce_content_length = \u001b[94mTrue\u001b[0m                                            \u001b[33m│\u001b[0m \u001b[31m│\u001b[0m\n",
      "\u001b[31m│\u001b[0m \u001b[33m│\u001b[0m                headers = \u001b[1m{\u001b[0m\u001b[33m'User-Agent'\u001b[0m: \u001b[33m'python-requests/2.32.3'\u001b[0m,        \u001b[33m│\u001b[0m \u001b[31m│\u001b[0m\n",
      "\u001b[31m│\u001b[0m \u001b[33m│\u001b[0m                          \u001b[33m'Accept-Encoding'\u001b[0m: \u001b[33m'gzip, deflate'\u001b[0m, \u001b[33m'Accept'\u001b[0m:   \u001b[33m│\u001b[0m \u001b[31m│\u001b[0m\n",
      "\u001b[31m│\u001b[0m \u001b[33m│\u001b[0m                          \u001b[33m'*/*'\u001b[0m, \u001b[33m'Connection'\u001b[0m: \u001b[33m'keep-alive'\u001b[0m\u001b[1m}\u001b[0m              \u001b[33m│\u001b[0m \u001b[31m│\u001b[0m\n",
      "\u001b[31m│\u001b[0m \u001b[33m│\u001b[0m                 method = \u001b[33m'GET'\u001b[0m                                           \u001b[33m│\u001b[0m \u001b[31m│\u001b[0m\n",
      "\u001b[31m│\u001b[0m \u001b[33m│\u001b[0m                  new_e = \u001b[1;35mNameResolutionError\u001b[0m\u001b[1m(\u001b[0m\u001b[33m\"\u001b[0m\u001b[1;33m<\u001b[0m\u001b[1;33murllib3.connection.HTTPS…\u001b[0m \u001b[33m│\u001b[0m \u001b[31m│\u001b[0m\n",
      "\u001b[31m│\u001b[0m \u001b[33m│\u001b[0m                          \u001b[33mobject at 0x7ee673eabeb0\u001b[0m\u001b[1;33m>\u001b[0m\u001b[33m: Failed to resolve \u001b[0m   \u001b[33m│\u001b[0m \u001b[31m│\u001b[0m\n",
      "\u001b[31m│\u001b[0m \u001b[33m│\u001b[0m                          \u001b[33m'raw.githubusercontent.com' \u001b[0m\u001b[1;33m(\u001b[0m\u001b[1;33m[\u001b[0m\u001b[33mErrno -3\u001b[0m\u001b[1;33m]\u001b[0m\u001b[33m \u001b[0m        \u001b[33m│\u001b[0m \u001b[31m│\u001b[0m\n",
      "\u001b[31m│\u001b[0m \u001b[33m│\u001b[0m                          \u001b[33mTemporary failure in name resolution\u001b[0m\u001b[1;33m)\u001b[0m\u001b[33m\"\u001b[0m\u001b[1m)\u001b[0m         \u001b[33m│\u001b[0m \u001b[31m│\u001b[0m\n",
      "\u001b[31m│\u001b[0m \u001b[33m│\u001b[0m        preload_content = \u001b[94mFalse\u001b[0m                                           \u001b[33m│\u001b[0m \u001b[31m│\u001b[0m\n",
      "\u001b[31m│\u001b[0m \u001b[33m│\u001b[0m          response_conn = \u001b[1m<\u001b[0m\u001b[1;95murllib3.connection.HTTPSConnection\u001b[0m\u001b[39m object at \u001b[0m  \u001b[33m│\u001b[0m \u001b[31m│\u001b[0m\n",
      "\u001b[31m│\u001b[0m \u001b[33m│\u001b[0m                          \u001b[94m0x7ee673eabeb0\u001b[0m\u001b[1m>\u001b[0m                                 \u001b[33m│\u001b[0m \u001b[31m│\u001b[0m\n",
      "\u001b[31m│\u001b[0m \u001b[33m│\u001b[0m                retries = \u001b[1;35mRetry\u001b[0m\u001b[1m(\u001b[0m\u001b[33mtotal\u001b[0m=\u001b[94m0\u001b[0m, \u001b[33mconnect\u001b[0m=\u001b[94mNone\u001b[0m, \u001b[33mread\u001b[0m=\u001b[94mFalse\u001b[0m,        \u001b[33m│\u001b[0m \u001b[31m│\u001b[0m\n",
      "\u001b[31m│\u001b[0m \u001b[33m│\u001b[0m                          \u001b[33mredirect\u001b[0m=\u001b[94mNone\u001b[0m, \u001b[33mstatus\u001b[0m=\u001b[94mNone\u001b[0m\u001b[1m)\u001b[0m                     \u001b[33m│\u001b[0m \u001b[31m│\u001b[0m\n",
      "\u001b[31m│\u001b[0m \u001b[33m│\u001b[0m                   self = \u001b[1m<\u001b[0m\u001b[1;95murllib3.connectionpool.HTTPSConnectionPool\u001b[0m\u001b[39m \u001b[0m    \u001b[33m│\u001b[0m \u001b[31m│\u001b[0m\n",
      "\u001b[31m│\u001b[0m \u001b[33m│\u001b[0m                          \u001b[39mobject at \u001b[0m\u001b[94m0x7ee673eab6d0\u001b[0m\u001b[1m>\u001b[0m                       \u001b[33m│\u001b[0m \u001b[31m│\u001b[0m\n",
      "\u001b[31m│\u001b[0m \u001b[33m│\u001b[0m                timeout = \u001b[1;35mTimeout\u001b[0m\u001b[1m(\u001b[0m\u001b[33mconnect\u001b[0m=\u001b[94mNone\u001b[0m, \u001b[33mread\u001b[0m=\u001b[94mNone\u001b[0m, \u001b[33mtotal\u001b[0m=\u001b[94mNone\u001b[0m\u001b[1m)\u001b[0m    \u001b[33m│\u001b[0m \u001b[31m│\u001b[0m\n",
      "\u001b[31m│\u001b[0m \u001b[33m│\u001b[0m            timeout_obj = \u001b[1;35mTimeout\u001b[0m\u001b[1m(\u001b[0m\u001b[33mconnect\u001b[0m=\u001b[94mNone\u001b[0m, \u001b[33mread\u001b[0m=\u001b[94mNone\u001b[0m, \u001b[33mtotal\u001b[0m=\u001b[94mNone\u001b[0m\u001b[1m)\u001b[0m    \u001b[33m│\u001b[0m \u001b[31m│\u001b[0m\n",
      "\u001b[31m│\u001b[0m \u001b[33m│\u001b[0m                    url = \u001b[33m'/karpathy/makemore/master/names.txt'\u001b[0m           \u001b[33m│\u001b[0m \u001b[31m│\u001b[0m\n",
      "\u001b[31m│\u001b[0m \u001b[33m╰──────────────────────────────────────────────────────────────────────────╯\u001b[0m \u001b[31m│\u001b[0m\n",
      "\u001b[31m│\u001b[0m                                                                              \u001b[31m│\u001b[0m\n",
      "\u001b[31m│\u001b[0m \u001b[2;33m/home/linx/code_workspace/makemore/env/lib/python3.10/site-packages/urllib3/\u001b[0m \u001b[31m│\u001b[0m\n",
      "\u001b[31m│\u001b[0m \u001b[1;33mconnectionpool.py\u001b[0m:\u001b[94m1099\u001b[0m in \u001b[92m_validate_conn\u001b[0m                                     \u001b[31m│\u001b[0m\n",
      "\u001b[31m│\u001b[0m                                                                              \u001b[31m│\u001b[0m\n",
      "\u001b[31m│\u001b[0m   \u001b[2m1096 \u001b[0m\u001b[2m│   │   \u001b[0m                                                              \u001b[31m│\u001b[0m\n",
      "\u001b[31m│\u001b[0m   \u001b[2m1097 \u001b[0m\u001b[2m│   │   \u001b[0m\u001b[2m# Force connect early to allow us to validate the connection.\u001b[0m \u001b[31m│\u001b[0m\n",
      "\u001b[31m│\u001b[0m   \u001b[2m1098 \u001b[0m\u001b[2m│   │   \u001b[0m\u001b[94mif\u001b[0m conn.is_closed:                                            \u001b[31m│\u001b[0m\n",
      "\u001b[31m│\u001b[0m \u001b[31m❱ \u001b[0m1099 \u001b[2m│   │   │   \u001b[0mconn.connect()                                            \u001b[31m│\u001b[0m\n",
      "\u001b[31m│\u001b[0m   \u001b[2m1100 \u001b[0m\u001b[2m│   │   \u001b[0m                                                              \u001b[31m│\u001b[0m\n",
      "\u001b[31m│\u001b[0m   \u001b[2m1101 \u001b[0m\u001b[2m│   │   \u001b[0m\u001b[2m# TODO revise this, see https://github.com/urllib3/urllib3/is\u001b[0m \u001b[31m│\u001b[0m\n",
      "\u001b[31m│\u001b[0m   \u001b[2m1102 \u001b[0m\u001b[2m│   │   \u001b[0m\u001b[94mif\u001b[0m \u001b[95mnot\u001b[0m conn.is_verified \u001b[95mand\u001b[0m \u001b[95mnot\u001b[0m conn.proxy_is_verified:       \u001b[31m│\u001b[0m\n",
      "\u001b[31m│\u001b[0m                                                                              \u001b[31m│\u001b[0m\n",
      "\u001b[31m│\u001b[0m \u001b[33m╭─\u001b[0m\u001b[33m────────────────────────────────\u001b[0m\u001b[33m locals \u001b[0m\u001b[33m────────────────────────────────\u001b[0m\u001b[33m─╮\u001b[0m \u001b[31m│\u001b[0m\n",
      "\u001b[31m│\u001b[0m \u001b[33m│\u001b[0m conn = \u001b[1m<\u001b[0m\u001b[1;95murllib3.connection.HTTPSConnection\u001b[0m\u001b[39m object at \u001b[0m\u001b[94m0x7ee673eabeb0\u001b[0m\u001b[1m>\u001b[0m     \u001b[33m│\u001b[0m \u001b[31m│\u001b[0m\n",
      "\u001b[31m│\u001b[0m \u001b[33m│\u001b[0m self = \u001b[1m<\u001b[0m\u001b[1;95murllib3.connectionpool.HTTPSConnectionPool\u001b[0m\u001b[39m object at \u001b[0m            \u001b[33m│\u001b[0m \u001b[31m│\u001b[0m\n",
      "\u001b[31m│\u001b[0m \u001b[33m│\u001b[0m        \u001b[94m0x7ee673eab6d0\u001b[0m\u001b[1m>\u001b[0m                                                   \u001b[33m│\u001b[0m \u001b[31m│\u001b[0m\n",
      "\u001b[31m│\u001b[0m \u001b[33m╰──────────────────────────────────────────────────────────────────────────╯\u001b[0m \u001b[31m│\u001b[0m\n",
      "\u001b[31m│\u001b[0m                                                                              \u001b[31m│\u001b[0m\n",
      "\u001b[31m│\u001b[0m \u001b[2;33m/home/linx/code_workspace/makemore/env/lib/python3.10/site-packages/urllib3/\u001b[0m \u001b[31m│\u001b[0m\n",
      "\u001b[31m│\u001b[0m \u001b[1;33mconnection.py\u001b[0m:\u001b[94m616\u001b[0m in \u001b[92mconnect\u001b[0m                                                 \u001b[31m│\u001b[0m\n",
      "\u001b[31m│\u001b[0m                                                                              \u001b[31m│\u001b[0m\n",
      "\u001b[31m│\u001b[0m   \u001b[2m613 \u001b[0m\u001b[2m│   \u001b[0m                                                                   \u001b[31m│\u001b[0m\n",
      "\u001b[31m│\u001b[0m   \u001b[2m614 \u001b[0m\u001b[2m│   \u001b[0m\u001b[94mdef\u001b[0m \u001b[92mconnect\u001b[0m(\u001b[96mself\u001b[0m) -> \u001b[94mNone\u001b[0m:                                         \u001b[31m│\u001b[0m\n",
      "\u001b[31m│\u001b[0m   \u001b[2m615 \u001b[0m\u001b[2m│   │   \u001b[0msock: socket.socket | ssl.SSLSocket                            \u001b[31m│\u001b[0m\n",
      "\u001b[31m│\u001b[0m \u001b[31m❱ \u001b[0m616 \u001b[2m│   │   \u001b[0m\u001b[96mself\u001b[0m.sock = sock = \u001b[96mself\u001b[0m._new_conn()                            \u001b[31m│\u001b[0m\n",
      "\u001b[31m│\u001b[0m   \u001b[2m617 \u001b[0m\u001b[2m│   │   \u001b[0mserver_hostname: \u001b[96mstr\u001b[0m = \u001b[96mself\u001b[0m.host                               \u001b[31m│\u001b[0m\n",
      "\u001b[31m│\u001b[0m   \u001b[2m618 \u001b[0m\u001b[2m│   │   \u001b[0mtls_in_tls = \u001b[94mFalse\u001b[0m                                             \u001b[31m│\u001b[0m\n",
      "\u001b[31m│\u001b[0m   \u001b[2m619 \u001b[0m                                                                       \u001b[31m│\u001b[0m\n",
      "\u001b[31m│\u001b[0m                                                                              \u001b[31m│\u001b[0m\n",
      "\u001b[31m│\u001b[0m \u001b[33m╭─\u001b[0m\u001b[33m──────────────────────────────\u001b[0m\u001b[33m locals \u001b[0m\u001b[33m──────────────────────────────\u001b[0m\u001b[33m─╮\u001b[0m     \u001b[31m│\u001b[0m\n",
      "\u001b[31m│\u001b[0m \u001b[33m│\u001b[0m self = \u001b[1m<\u001b[0m\u001b[1;95murllib3.connection.HTTPSConnection\u001b[0m\u001b[39m object at \u001b[0m\u001b[94m0x7ee673eabeb0\u001b[0m\u001b[1m>\u001b[0m \u001b[33m│\u001b[0m     \u001b[31m│\u001b[0m\n",
      "\u001b[31m│\u001b[0m \u001b[33m╰──────────────────────────────────────────────────────────────────────╯\u001b[0m     \u001b[31m│\u001b[0m\n",
      "\u001b[31m│\u001b[0m                                                                              \u001b[31m│\u001b[0m\n",
      "\u001b[31m│\u001b[0m \u001b[2;33m/home/linx/code_workspace/makemore/env/lib/python3.10/site-packages/urllib3/\u001b[0m \u001b[31m│\u001b[0m\n",
      "\u001b[31m│\u001b[0m \u001b[1;33mconnection.py\u001b[0m:\u001b[94m205\u001b[0m in \u001b[92m_new_conn\u001b[0m                                               \u001b[31m│\u001b[0m\n",
      "\u001b[31m│\u001b[0m                                                                              \u001b[31m│\u001b[0m\n",
      "\u001b[31m│\u001b[0m   \u001b[2m202 \u001b[0m\u001b[2m│   │   │   │   \u001b[0msocket_options=\u001b[96mself\u001b[0m.socket_options,                    \u001b[31m│\u001b[0m\n",
      "\u001b[31m│\u001b[0m   \u001b[2m203 \u001b[0m\u001b[2m│   │   │   \u001b[0m)                                                          \u001b[31m│\u001b[0m\n",
      "\u001b[31m│\u001b[0m   \u001b[2m204 \u001b[0m\u001b[2m│   │   \u001b[0m\u001b[94mexcept\u001b[0m socket.gaierror \u001b[94mas\u001b[0m e:                                   \u001b[31m│\u001b[0m\n",
      "\u001b[31m│\u001b[0m \u001b[31m❱ \u001b[0m205 \u001b[2m│   │   │   \u001b[0m\u001b[94mraise\u001b[0m NameResolutionError(\u001b[96mself\u001b[0m.host, \u001b[96mself\u001b[0m, e) \u001b[94mfrom\u001b[0m \u001b[4;96me\u001b[0m       \u001b[31m│\u001b[0m\n",
      "\u001b[31m│\u001b[0m   \u001b[2m206 \u001b[0m\u001b[2m│   │   \u001b[0m\u001b[94mexcept\u001b[0m SocketTimeout \u001b[94mas\u001b[0m e:                                     \u001b[31m│\u001b[0m\n",
      "\u001b[31m│\u001b[0m   \u001b[2m207 \u001b[0m\u001b[2m│   │   │   \u001b[0m\u001b[94mraise\u001b[0m ConnectTimeoutError(                                 \u001b[31m│\u001b[0m\n",
      "\u001b[31m│\u001b[0m   \u001b[2m208 \u001b[0m\u001b[2m│   │   │   │   \u001b[0m\u001b[96mself\u001b[0m,                                                  \u001b[31m│\u001b[0m\n",
      "\u001b[31m│\u001b[0m                                                                              \u001b[31m│\u001b[0m\n",
      "\u001b[31m│\u001b[0m \u001b[33m╭─\u001b[0m\u001b[33m──────────────────────────────\u001b[0m\u001b[33m locals \u001b[0m\u001b[33m──────────────────────────────\u001b[0m\u001b[33m─╮\u001b[0m     \u001b[31m│\u001b[0m\n",
      "\u001b[31m│\u001b[0m \u001b[33m│\u001b[0m self = \u001b[1m<\u001b[0m\u001b[1;95murllib3.connection.HTTPSConnection\u001b[0m\u001b[39m object at \u001b[0m\u001b[94m0x7ee673eabeb0\u001b[0m\u001b[1m>\u001b[0m \u001b[33m│\u001b[0m     \u001b[31m│\u001b[0m\n",
      "\u001b[31m│\u001b[0m \u001b[33m╰──────────────────────────────────────────────────────────────────────╯\u001b[0m     \u001b[31m│\u001b[0m\n",
      "\u001b[31m╰──────────────────────────────────────────────────────────────────────────────╯\u001b[0m\n",
      "\u001b[1;91mNameResolutionError: \u001b[0m\u001b[1m<\u001b[0m\u001b[1;95murllib3.connection.HTTPSConnection\u001b[0m\u001b[39m object at \u001b[0m\n",
      "\u001b[1;36m0x7ee673eabeb0\u001b[0m\u001b[1m>\u001b[0m: Failed to resolve \u001b[32m'raw.githubusercontent.com'\u001b[0m \u001b[1m(\u001b[0m\u001b[1m[\u001b[0mErrno \u001b[1;36m-3\u001b[0m\u001b[1m]\u001b[0m \n",
      "Temporary failure in name resolution\u001b[1m)\u001b[0m\n",
      "\n",
      "\u001b[3mThe above exception was the direct cause of the following exception:\u001b[0m\n",
      "\n",
      "\u001b[31m╭─\u001b[0m\u001b[31m────────────────────\u001b[0m\u001b[31m \u001b[0m\u001b[1;31mTraceback \u001b[0m\u001b[1;2;31m(most recent call last)\u001b[0m\u001b[31m \u001b[0m\u001b[31m─────────────────────\u001b[0m\u001b[31m─╮\u001b[0m\n",
      "\u001b[31m│\u001b[0m \u001b[2;33m/home/linx/code_workspace/makemore/env/lib/python3.10/site-packages/requests\u001b[0m \u001b[31m│\u001b[0m\n",
      "\u001b[31m│\u001b[0m \u001b[2;33m/\u001b[0m\u001b[1;33madapters.py\u001b[0m:\u001b[94m667\u001b[0m in \u001b[92msend\u001b[0m                                                     \u001b[31m│\u001b[0m\n",
      "\u001b[31m│\u001b[0m                                                                              \u001b[31m│\u001b[0m\n",
      "\u001b[31m│\u001b[0m   \u001b[2m664 \u001b[0m\u001b[2m│   │   │   \u001b[0mtimeout = TimeoutSauce(connect=timeout, read=timeout)      \u001b[31m│\u001b[0m\n",
      "\u001b[31m│\u001b[0m   \u001b[2m665 \u001b[0m\u001b[2m│   │   \u001b[0m                                                               \u001b[31m│\u001b[0m\n",
      "\u001b[31m│\u001b[0m   \u001b[2m666 \u001b[0m\u001b[2m│   │   \u001b[0m\u001b[94mtry\u001b[0m:                                                           \u001b[31m│\u001b[0m\n",
      "\u001b[31m│\u001b[0m \u001b[31m❱ \u001b[0m667 \u001b[2m│   │   │   \u001b[0mresp = conn.urlopen(                                       \u001b[31m│\u001b[0m\n",
      "\u001b[31m│\u001b[0m   \u001b[2m668 \u001b[0m\u001b[2m│   │   │   │   \u001b[0mmethod=request.method,                                 \u001b[31m│\u001b[0m\n",
      "\u001b[31m│\u001b[0m   \u001b[2m669 \u001b[0m\u001b[2m│   │   │   │   \u001b[0murl=url,                                               \u001b[31m│\u001b[0m\n",
      "\u001b[31m│\u001b[0m   \u001b[2m670 \u001b[0m\u001b[2m│   │   │   │   \u001b[0mbody=request.body,                                     \u001b[31m│\u001b[0m\n",
      "\u001b[31m│\u001b[0m                                                                              \u001b[31m│\u001b[0m\n",
      "\u001b[31m│\u001b[0m \u001b[33m╭─\u001b[0m\u001b[33m────────────────────────────────\u001b[0m\u001b[33m locals \u001b[0m\u001b[33m────────────────────────────────\u001b[0m\u001b[33m─╮\u001b[0m \u001b[31m│\u001b[0m\n",
      "\u001b[31m│\u001b[0m \u001b[33m│\u001b[0m    cert = \u001b[94mNone\u001b[0m                                                           \u001b[33m│\u001b[0m \u001b[31m│\u001b[0m\n",
      "\u001b[31m│\u001b[0m \u001b[33m│\u001b[0m chunked = \u001b[94mFalse\u001b[0m                                                          \u001b[33m│\u001b[0m \u001b[31m│\u001b[0m\n",
      "\u001b[31m│\u001b[0m \u001b[33m│\u001b[0m    conn = \u001b[1m<\u001b[0m\u001b[1;95murllib3.connectionpool.HTTPSConnectionPool\u001b[0m\u001b[39m object at \u001b[0m         \u001b[33m│\u001b[0m \u001b[31m│\u001b[0m\n",
      "\u001b[31m│\u001b[0m \u001b[33m│\u001b[0m           \u001b[94m0x7ee673eab6d0\u001b[0m\u001b[1m>\u001b[0m                                                \u001b[33m│\u001b[0m \u001b[31m│\u001b[0m\n",
      "\u001b[31m│\u001b[0m \u001b[33m│\u001b[0m proxies = \u001b[1;35mOrderedDict\u001b[0m\u001b[1m(\u001b[0m\u001b[1m)\u001b[0m                                                  \u001b[33m│\u001b[0m \u001b[31m│\u001b[0m\n",
      "\u001b[31m│\u001b[0m \u001b[33m│\u001b[0m request = \u001b[1m<\u001b[0m\u001b[1;95mPreparedRequest\u001b[0m\u001b[39m \u001b[0m\u001b[1;39m[\u001b[0m\u001b[39mGET\u001b[0m\u001b[1;39m]\u001b[0m\u001b[1m>\u001b[0m                                        \u001b[33m│\u001b[0m \u001b[31m│\u001b[0m\n",
      "\u001b[31m│\u001b[0m \u001b[33m│\u001b[0m    self = \u001b[1m<\u001b[0m\u001b[1;95mrequests.adapters.HTTPAdapter\u001b[0m\u001b[39m object at \u001b[0m\u001b[94m0x7ee673eab460\u001b[0m\u001b[1m>\u001b[0m       \u001b[33m│\u001b[0m \u001b[31m│\u001b[0m\n",
      "\u001b[31m│\u001b[0m \u001b[33m│\u001b[0m  stream = \u001b[94mFalse\u001b[0m                                                          \u001b[33m│\u001b[0m \u001b[31m│\u001b[0m\n",
      "\u001b[31m│\u001b[0m \u001b[33m│\u001b[0m timeout = \u001b[1;35mTimeout\u001b[0m\u001b[1m(\u001b[0m\u001b[33mconnect\u001b[0m=\u001b[94mNone\u001b[0m, \u001b[33mread\u001b[0m=\u001b[94mNone\u001b[0m, \u001b[33mtotal\u001b[0m=\u001b[94mNone\u001b[0m\u001b[1m)\u001b[0m                   \u001b[33m│\u001b[0m \u001b[31m│\u001b[0m\n",
      "\u001b[31m│\u001b[0m \u001b[33m│\u001b[0m     url = \u001b[33m'/karpathy/makemore/master/names.txt'\u001b[0m                          \u001b[33m│\u001b[0m \u001b[31m│\u001b[0m\n",
      "\u001b[31m│\u001b[0m \u001b[33m│\u001b[0m  verify = \u001b[94mTrue\u001b[0m                                                           \u001b[33m│\u001b[0m \u001b[31m│\u001b[0m\n",
      "\u001b[31m│\u001b[0m \u001b[33m╰──────────────────────────────────────────────────────────────────────────╯\u001b[0m \u001b[31m│\u001b[0m\n",
      "\u001b[31m│\u001b[0m                                                                              \u001b[31m│\u001b[0m\n",
      "\u001b[31m│\u001b[0m \u001b[2;33m/home/linx/code_workspace/makemore/env/lib/python3.10/site-packages/urllib3/\u001b[0m \u001b[31m│\u001b[0m\n",
      "\u001b[31m│\u001b[0m \u001b[1;33mconnectionpool.py\u001b[0m:\u001b[94m847\u001b[0m in \u001b[92murlopen\u001b[0m                                             \u001b[31m│\u001b[0m\n",
      "\u001b[31m│\u001b[0m                                                                              \u001b[31m│\u001b[0m\n",
      "\u001b[31m│\u001b[0m   \u001b[2m 844 \u001b[0m\u001b[2m│   │   │   \u001b[0m\u001b[94melif\u001b[0m \u001b[96misinstance\u001b[0m(new_e, (\u001b[96mOSError\u001b[0m, HTTPException)):         \u001b[31m│\u001b[0m\n",
      "\u001b[31m│\u001b[0m   \u001b[2m 845 \u001b[0m\u001b[2m│   │   │   │   \u001b[0mnew_e = ProtocolError(\u001b[33m\"\u001b[0m\u001b[33mConnection aborted.\u001b[0m\u001b[33m\"\u001b[0m, new_e)   \u001b[31m│\u001b[0m\n",
      "\u001b[31m│\u001b[0m   \u001b[2m 846 \u001b[0m\u001b[2m│   │   │   \u001b[0m                                                          \u001b[31m│\u001b[0m\n",
      "\u001b[31m│\u001b[0m \u001b[31m❱ \u001b[0m 847 \u001b[2m│   │   │   \u001b[0mretries = retries.increment(                              \u001b[31m│\u001b[0m\n",
      "\u001b[31m│\u001b[0m   \u001b[2m 848 \u001b[0m\u001b[2m│   │   │   │   \u001b[0mmethod, url, error=new_e, _pool=\u001b[96mself\u001b[0m, _stacktrace=sys \u001b[31m│\u001b[0m\n",
      "\u001b[31m│\u001b[0m   \u001b[2m 849 \u001b[0m\u001b[2m│   │   │   \u001b[0m)                                                         \u001b[31m│\u001b[0m\n",
      "\u001b[31m│\u001b[0m   \u001b[2m 850 \u001b[0m\u001b[2m│   │   │   \u001b[0mretries.sleep()                                           \u001b[31m│\u001b[0m\n",
      "\u001b[31m│\u001b[0m                                                                              \u001b[31m│\u001b[0m\n",
      "\u001b[31m│\u001b[0m \u001b[33m╭─\u001b[0m\u001b[33m────────────────────────────────\u001b[0m\u001b[33m locals \u001b[0m\u001b[33m────────────────────────────────\u001b[0m\u001b[33m─╮\u001b[0m \u001b[31m│\u001b[0m\n",
      "\u001b[31m│\u001b[0m \u001b[33m│\u001b[0m     assert_same_host = \u001b[94mFalse\u001b[0m                                             \u001b[33m│\u001b[0m \u001b[31m│\u001b[0m\n",
      "\u001b[31m│\u001b[0m \u001b[33m│\u001b[0m                 body = \u001b[94mNone\u001b[0m                                              \u001b[33m│\u001b[0m \u001b[31m│\u001b[0m\n",
      "\u001b[31m│\u001b[0m \u001b[33m│\u001b[0m             body_pos = \u001b[94mNone\u001b[0m                                              \u001b[33m│\u001b[0m \u001b[31m│\u001b[0m\n",
      "\u001b[31m│\u001b[0m \u001b[33m│\u001b[0m              chunked = \u001b[94mFalse\u001b[0m                                             \u001b[33m│\u001b[0m \u001b[31m│\u001b[0m\n",
      "\u001b[31m│\u001b[0m \u001b[33m│\u001b[0m           clean_exit = \u001b[94mFalse\u001b[0m                                             \u001b[33m│\u001b[0m \u001b[31m│\u001b[0m\n",
      "\u001b[31m│\u001b[0m \u001b[33m│\u001b[0m                 conn = \u001b[94mNone\u001b[0m                                              \u001b[33m│\u001b[0m \u001b[31m│\u001b[0m\n",
      "\u001b[31m│\u001b[0m \u001b[33m│\u001b[0m       decode_content = \u001b[94mFalse\u001b[0m                                             \u001b[33m│\u001b[0m \u001b[31m│\u001b[0m\n",
      "\u001b[31m│\u001b[0m \u001b[33m│\u001b[0m   destination_scheme = \u001b[94mNone\u001b[0m                                              \u001b[33m│\u001b[0m \u001b[31m│\u001b[0m\n",
      "\u001b[31m│\u001b[0m \u001b[33m│\u001b[0m                  err = \u001b[94mNone\u001b[0m                                              \u001b[33m│\u001b[0m \u001b[31m│\u001b[0m\n",
      "\u001b[31m│\u001b[0m \u001b[33m│\u001b[0m              headers = \u001b[1m{\u001b[0m\u001b[33m'User-Agent'\u001b[0m: \u001b[33m'python-requests/2.32.3'\u001b[0m,          \u001b[33m│\u001b[0m \u001b[31m│\u001b[0m\n",
      "\u001b[31m│\u001b[0m \u001b[33m│\u001b[0m                        \u001b[33m'Accept-Encoding'\u001b[0m: \u001b[33m'gzip, deflate'\u001b[0m, \u001b[33m'Accept'\u001b[0m:     \u001b[33m│\u001b[0m \u001b[31m│\u001b[0m\n",
      "\u001b[31m│\u001b[0m \u001b[33m│\u001b[0m                        \u001b[33m'*/*'\u001b[0m, \u001b[33m'Connection'\u001b[0m: \u001b[33m'keep-alive'\u001b[0m\u001b[1m}\u001b[0m                \u001b[33m│\u001b[0m \u001b[31m│\u001b[0m\n",
      "\u001b[31m│\u001b[0m \u001b[33m│\u001b[0m http_tunnel_required = \u001b[94mFalse\u001b[0m                                             \u001b[33m│\u001b[0m \u001b[31m│\u001b[0m\n",
      "\u001b[31m│\u001b[0m \u001b[33m│\u001b[0m               method = \u001b[33m'GET'\u001b[0m                                             \u001b[33m│\u001b[0m \u001b[31m│\u001b[0m\n",
      "\u001b[31m│\u001b[0m \u001b[33m│\u001b[0m                new_e = \u001b[1;35mNameResolutionError\u001b[0m\u001b[1m(\u001b[0m\u001b[33m\"\u001b[0m\u001b[1;33m<\u001b[0m\u001b[1;33murllib3.connection.HTTPSCo…\u001b[0m \u001b[33m│\u001b[0m \u001b[31m│\u001b[0m\n",
      "\u001b[31m│\u001b[0m \u001b[33m│\u001b[0m                        \u001b[33mobject at 0x7ee673eabeb0\u001b[0m\u001b[1;33m>\u001b[0m\u001b[33m: Failed to resolve \u001b[0m     \u001b[33m│\u001b[0m \u001b[31m│\u001b[0m\n",
      "\u001b[31m│\u001b[0m \u001b[33m│\u001b[0m                        \u001b[33m'raw.githubusercontent.com' \u001b[0m\u001b[1;33m(\u001b[0m\u001b[1;33m[\u001b[0m\u001b[33mErrno -3\u001b[0m\u001b[1;33m]\u001b[0m\u001b[33m Temporary\u001b[0m \u001b[33m│\u001b[0m \u001b[31m│\u001b[0m\n",
      "\u001b[31m│\u001b[0m \u001b[33m│\u001b[0m                        \u001b[33mfailure in name resolution\u001b[0m\u001b[1;33m)\u001b[0m\u001b[33m\"\u001b[0m\u001b[1m)\u001b[0m                     \u001b[33m│\u001b[0m \u001b[31m│\u001b[0m\n",
      "\u001b[31m│\u001b[0m \u001b[33m│\u001b[0m           parsed_url = \u001b[1;35mUrl\u001b[0m\u001b[1m(\u001b[0m                                              \u001b[33m│\u001b[0m \u001b[31m│\u001b[0m\n",
      "\u001b[31m│\u001b[0m \u001b[33m│\u001b[0m                        \u001b[2m│   \u001b[0m\u001b[33mscheme\u001b[0m=\u001b[94mNone\u001b[0m,                                  \u001b[33m│\u001b[0m \u001b[31m│\u001b[0m\n",
      "\u001b[31m│\u001b[0m \u001b[33m│\u001b[0m                        \u001b[2m│   \u001b[0m\u001b[33mauth\u001b[0m=\u001b[94mNone\u001b[0m,                                    \u001b[33m│\u001b[0m \u001b[31m│\u001b[0m\n",
      "\u001b[31m│\u001b[0m \u001b[33m│\u001b[0m                        \u001b[2m│   \u001b[0m\u001b[33mhost\u001b[0m=\u001b[94mNone\u001b[0m,                                    \u001b[33m│\u001b[0m \u001b[31m│\u001b[0m\n",
      "\u001b[31m│\u001b[0m \u001b[33m│\u001b[0m                        \u001b[2m│   \u001b[0m\u001b[33mport\u001b[0m=\u001b[94mNone\u001b[0m,                                    \u001b[33m│\u001b[0m \u001b[31m│\u001b[0m\n",
      "\u001b[31m│\u001b[0m \u001b[33m│\u001b[0m                        \u001b[2m│   \u001b[0m\u001b[33mpath\u001b[0m=\u001b[33m'/karpathy/makemore/master/names.txt'\u001b[0m,   \u001b[33m│\u001b[0m \u001b[31m│\u001b[0m\n",
      "\u001b[31m│\u001b[0m \u001b[33m│\u001b[0m                        \u001b[2m│   \u001b[0m\u001b[33mquery\u001b[0m=\u001b[94mNone\u001b[0m,                                   \u001b[33m│\u001b[0m \u001b[31m│\u001b[0m\n",
      "\u001b[31m│\u001b[0m \u001b[33m│\u001b[0m                        \u001b[2m│   \u001b[0m\u001b[33mfragment\u001b[0m=\u001b[94mNone\u001b[0m                                 \u001b[33m│\u001b[0m \u001b[31m│\u001b[0m\n",
      "\u001b[31m│\u001b[0m \u001b[33m│\u001b[0m                        \u001b[1m)\u001b[0m                                                 \u001b[33m│\u001b[0m \u001b[31m│\u001b[0m\n",
      "\u001b[31m│\u001b[0m \u001b[33m│\u001b[0m         pool_timeout = \u001b[94mNone\u001b[0m                                              \u001b[33m│\u001b[0m \u001b[31m│\u001b[0m\n",
      "\u001b[31m│\u001b[0m \u001b[33m│\u001b[0m      preload_content = \u001b[94mFalse\u001b[0m                                             \u001b[33m│\u001b[0m \u001b[31m│\u001b[0m\n",
      "\u001b[31m│\u001b[0m \u001b[33m│\u001b[0m             redirect = \u001b[94mFalse\u001b[0m                                             \u001b[33m│\u001b[0m \u001b[31m│\u001b[0m\n",
      "\u001b[31m│\u001b[0m \u001b[33m│\u001b[0m         release_conn = \u001b[94mFalse\u001b[0m                                             \u001b[33m│\u001b[0m \u001b[31m│\u001b[0m\n",
      "\u001b[31m│\u001b[0m \u001b[33m│\u001b[0m    release_this_conn = \u001b[94mTrue\u001b[0m                                              \u001b[33m│\u001b[0m \u001b[31m│\u001b[0m\n",
      "\u001b[31m│\u001b[0m \u001b[33m│\u001b[0m        response_conn = \u001b[1m<\u001b[0m\u001b[1;95murllib3.connection.HTTPSConnection\u001b[0m\u001b[39m object at \u001b[0m    \u001b[33m│\u001b[0m \u001b[31m│\u001b[0m\n",
      "\u001b[31m│\u001b[0m \u001b[33m│\u001b[0m                        \u001b[94m0x7ee673eabeb0\u001b[0m\u001b[1m>\u001b[0m                                   \u001b[33m│\u001b[0m \u001b[31m│\u001b[0m\n",
      "\u001b[31m│\u001b[0m \u001b[33m│\u001b[0m          response_kw = \u001b[1m{\u001b[0m\u001b[1m}\u001b[0m                                                \u001b[33m│\u001b[0m \u001b[31m│\u001b[0m\n",
      "\u001b[31m│\u001b[0m \u001b[33m│\u001b[0m              retries = \u001b[1;35mRetry\u001b[0m\u001b[1m(\u001b[0m\u001b[33mtotal\u001b[0m=\u001b[94m0\u001b[0m, \u001b[33mconnect\u001b[0m=\u001b[94mNone\u001b[0m, \u001b[33mread\u001b[0m=\u001b[94mFalse\u001b[0m,          \u001b[33m│\u001b[0m \u001b[31m│\u001b[0m\n",
      "\u001b[31m│\u001b[0m \u001b[33m│\u001b[0m                        \u001b[33mredirect\u001b[0m=\u001b[94mNone\u001b[0m, \u001b[33mstatus\u001b[0m=\u001b[94mNone\u001b[0m\u001b[1m)\u001b[0m                       \u001b[33m│\u001b[0m \u001b[31m│\u001b[0m\n",
      "\u001b[31m│\u001b[0m \u001b[33m│\u001b[0m                 self = \u001b[1m<\u001b[0m\u001b[1;95murllib3.connectionpool.HTTPSConnectionPool\u001b[0m\u001b[39m \u001b[0m      \u001b[33m│\u001b[0m \u001b[31m│\u001b[0m\n",
      "\u001b[31m│\u001b[0m \u001b[33m│\u001b[0m                        \u001b[39mobject at \u001b[0m\u001b[94m0x7ee673eab6d0\u001b[0m\u001b[1m>\u001b[0m                         \u001b[33m│\u001b[0m \u001b[31m│\u001b[0m\n",
      "\u001b[31m│\u001b[0m \u001b[33m│\u001b[0m              timeout = \u001b[1;35mTimeout\u001b[0m\u001b[1m(\u001b[0m\u001b[33mconnect\u001b[0m=\u001b[94mNone\u001b[0m, \u001b[33mread\u001b[0m=\u001b[94mNone\u001b[0m, \u001b[33mtotal\u001b[0m=\u001b[94mNone\u001b[0m\u001b[1m)\u001b[0m      \u001b[33m│\u001b[0m \u001b[31m│\u001b[0m\n",
      "\u001b[31m│\u001b[0m \u001b[33m│\u001b[0m          timeout_obj = \u001b[1;35mTimeout\u001b[0m\u001b[1m(\u001b[0m\u001b[33mconnect\u001b[0m=\u001b[94mNone\u001b[0m, \u001b[33mread\u001b[0m=\u001b[94mNone\u001b[0m, \u001b[33mtotal\u001b[0m=\u001b[94mNone\u001b[0m\u001b[1m)\u001b[0m      \u001b[33m│\u001b[0m \u001b[31m│\u001b[0m\n",
      "\u001b[31m│\u001b[0m \u001b[33m│\u001b[0m                  url = \u001b[33m'/karpathy/makemore/master/names.txt'\u001b[0m             \u001b[33m│\u001b[0m \u001b[31m│\u001b[0m\n",
      "\u001b[31m│\u001b[0m \u001b[33m╰──────────────────────────────────────────────────────────────────────────╯\u001b[0m \u001b[31m│\u001b[0m\n",
      "\u001b[31m│\u001b[0m                                                                              \u001b[31m│\u001b[0m\n",
      "\u001b[31m│\u001b[0m \u001b[2;33m/home/linx/code_workspace/makemore/env/lib/python3.10/site-packages/urllib3/\u001b[0m \u001b[31m│\u001b[0m\n",
      "\u001b[31m│\u001b[0m \u001b[2;33mutil/\u001b[0m\u001b[1;33mretry.py\u001b[0m:\u001b[94m515\u001b[0m in \u001b[92mincrement\u001b[0m                                               \u001b[31m│\u001b[0m\n",
      "\u001b[31m│\u001b[0m                                                                              \u001b[31m│\u001b[0m\n",
      "\u001b[31m│\u001b[0m   \u001b[2m512 \u001b[0m\u001b[2m│   │   \u001b[0m                                                               \u001b[31m│\u001b[0m\n",
      "\u001b[31m│\u001b[0m   \u001b[2m513 \u001b[0m\u001b[2m│   │   \u001b[0m\u001b[94mif\u001b[0m new_retry.is_exhausted():                                   \u001b[31m│\u001b[0m\n",
      "\u001b[31m│\u001b[0m   \u001b[2m514 \u001b[0m\u001b[2m│   │   │   \u001b[0mreason = error \u001b[95mor\u001b[0m ResponseError(cause)                     \u001b[31m│\u001b[0m\n",
      "\u001b[31m│\u001b[0m \u001b[31m❱ \u001b[0m515 \u001b[2m│   │   │   \u001b[0m\u001b[94mraise\u001b[0m MaxRetryError(_pool, url, reason) \u001b[94mfrom\u001b[0m \u001b[4;96mreason\u001b[0m  \u001b[2m# typ\u001b[0m \u001b[31m│\u001b[0m\n",
      "\u001b[31m│\u001b[0m   \u001b[2m516 \u001b[0m\u001b[2m│   │   \u001b[0m                                                               \u001b[31m│\u001b[0m\n",
      "\u001b[31m│\u001b[0m   \u001b[2m517 \u001b[0m\u001b[2m│   │   \u001b[0mlog.debug(\u001b[33m\"\u001b[0m\u001b[33mIncremented Retry for (url=\u001b[0m\u001b[33m'\u001b[0m\u001b[33m%s\u001b[0m\u001b[33m'\u001b[0m\u001b[33m): \u001b[0m\u001b[33m%r\u001b[0m\u001b[33m\"\u001b[0m, url, new_ret \u001b[31m│\u001b[0m\n",
      "\u001b[31m│\u001b[0m   \u001b[2m518 \u001b[0m                                                                       \u001b[31m│\u001b[0m\n",
      "\u001b[31m│\u001b[0m                                                                              \u001b[31m│\u001b[0m\n",
      "\u001b[31m│\u001b[0m \u001b[33m╭─\u001b[0m\u001b[33m────────────────────────────────\u001b[0m\u001b[33m locals \u001b[0m\u001b[33m────────────────────────────────\u001b[0m\u001b[33m─╮\u001b[0m \u001b[31m│\u001b[0m\n",
      "\u001b[31m│\u001b[0m \u001b[33m│\u001b[0m             _pool = \u001b[1m<\u001b[0m\u001b[1;95murllib3.connectionpool.HTTPSConnectionPool\u001b[0m\u001b[39m object \u001b[0m  \u001b[33m│\u001b[0m \u001b[31m│\u001b[0m\n",
      "\u001b[31m│\u001b[0m \u001b[33m│\u001b[0m                     \u001b[39mat \u001b[0m\u001b[94m0x7ee673eab6d0\u001b[0m\u001b[1m>\u001b[0m                                   \u001b[33m│\u001b[0m \u001b[31m│\u001b[0m\n",
      "\u001b[31m│\u001b[0m \u001b[33m│\u001b[0m       _stacktrace = \u001b[1m<\u001b[0m\u001b[1;95mtraceback\u001b[0m\u001b[39m object at \u001b[0m\u001b[94m0x7ee673edb7c0\u001b[0m\u001b[1m>\u001b[0m                 \u001b[33m│\u001b[0m \u001b[31m│\u001b[0m\n",
      "\u001b[31m│\u001b[0m \u001b[33m│\u001b[0m             cause = \u001b[33m'unknown'\u001b[0m                                            \u001b[33m│\u001b[0m \u001b[31m│\u001b[0m\n",
      "\u001b[31m│\u001b[0m \u001b[33m│\u001b[0m           connect = \u001b[94mNone\u001b[0m                                                 \u001b[33m│\u001b[0m \u001b[31m│\u001b[0m\n",
      "\u001b[31m│\u001b[0m \u001b[33m│\u001b[0m             error = \u001b[1;35mNameResolutionError\u001b[0m\u001b[1m(\u001b[0m\u001b[33m\"\u001b[0m\u001b[1;33m<\u001b[0m\u001b[1;33murllib3.connection.HTTPSConne…\u001b[0m \u001b[33m│\u001b[0m \u001b[31m│\u001b[0m\n",
      "\u001b[31m│\u001b[0m \u001b[33m│\u001b[0m                     \u001b[33mobject at 0x7ee673eabeb0\u001b[0m\u001b[1;33m>\u001b[0m\u001b[33m: Failed to resolve \u001b[0m        \u001b[33m│\u001b[0m \u001b[31m│\u001b[0m\n",
      "\u001b[31m│\u001b[0m \u001b[33m│\u001b[0m                     \u001b[33m'raw.githubusercontent.com' \u001b[0m\u001b[1;33m(\u001b[0m\u001b[1;33m[\u001b[0m\u001b[33mErrno -3\u001b[0m\u001b[1;33m]\u001b[0m\u001b[33m Temporary \u001b[0m   \u001b[33m│\u001b[0m \u001b[31m│\u001b[0m\n",
      "\u001b[31m│\u001b[0m \u001b[33m│\u001b[0m                     \u001b[33mfailure in name resolution\u001b[0m\u001b[1;33m)\u001b[0m\u001b[33m\"\u001b[0m\u001b[1m)\u001b[0m                        \u001b[33m│\u001b[0m \u001b[31m│\u001b[0m\n",
      "\u001b[31m│\u001b[0m \u001b[33m│\u001b[0m           history = \u001b[1m(\u001b[0m                                                    \u001b[33m│\u001b[0m \u001b[31m│\u001b[0m\n",
      "\u001b[31m│\u001b[0m \u001b[33m│\u001b[0m                     \u001b[2m│   \u001b[0m\u001b[1;35mRequestHistory\u001b[0m\u001b[1m(\u001b[0m                                  \u001b[33m│\u001b[0m \u001b[31m│\u001b[0m\n",
      "\u001b[31m│\u001b[0m \u001b[33m│\u001b[0m                     \u001b[2m│   │   \u001b[0m\u001b[33mmethod\u001b[0m=\u001b[33m'GET'\u001b[0m,                                \u001b[33m│\u001b[0m \u001b[31m│\u001b[0m\n",
      "\u001b[31m│\u001b[0m \u001b[33m│\u001b[0m                     \u001b[2m│   │   \u001b[0m\u001b[33murl\u001b[0m=\u001b[33m'/karpathy/makemore/master/names.txt'\u001b[0m,   \u001b[33m│\u001b[0m \u001b[31m│\u001b[0m\n",
      "\u001b[31m│\u001b[0m \u001b[33m│\u001b[0m                     \u001b[2m│   │   \u001b[0m                                             \u001b[33m│\u001b[0m \u001b[31m│\u001b[0m\n",
      "\u001b[31m│\u001b[0m \u001b[33m│\u001b[0m                     \u001b[33merror\u001b[0m=\u001b[1;35mNameResolutionError\u001b[0m\u001b[1m(\u001b[0m\u001b[33m\"\u001b[0m\u001b[1;33m<\u001b[0m\u001b[1;33murllib3.connection.HTTP…\u001b[0m \u001b[33m│\u001b[0m \u001b[31m│\u001b[0m\n",
      "\u001b[31m│\u001b[0m \u001b[33m│\u001b[0m                     \u001b[33mobject at 0x7ee673eabeb0\u001b[0m\u001b[1;33m>\u001b[0m\u001b[33m: Failed to resolve \u001b[0m        \u001b[33m│\u001b[0m \u001b[31m│\u001b[0m\n",
      "\u001b[31m│\u001b[0m \u001b[33m│\u001b[0m                     \u001b[33m'raw.githubusercontent.com' \u001b[0m\u001b[1;33m(\u001b[0m\u001b[1;33m[\u001b[0m\u001b[33mErrno -3\u001b[0m\u001b[1;33m]\u001b[0m\u001b[33m Temporary \u001b[0m   \u001b[33m│\u001b[0m \u001b[31m│\u001b[0m\n",
      "\u001b[31m│\u001b[0m \u001b[33m│\u001b[0m                     \u001b[33mfailure in name resolution\u001b[0m\u001b[1;33m)\u001b[0m\u001b[33m\"\u001b[0m\u001b[1m)\u001b[0m,                       \u001b[33m│\u001b[0m \u001b[31m│\u001b[0m\n",
      "\u001b[31m│\u001b[0m \u001b[33m│\u001b[0m                     \u001b[2m│   │   \u001b[0m\u001b[33mstatus\u001b[0m=\u001b[94mNone\u001b[0m,                                 \u001b[33m│\u001b[0m \u001b[31m│\u001b[0m\n",
      "\u001b[31m│\u001b[0m \u001b[33m│\u001b[0m                     \u001b[2m│   │   \u001b[0m\u001b[33mredirect_location\u001b[0m=\u001b[94mNone\u001b[0m                       \u001b[33m│\u001b[0m \u001b[31m│\u001b[0m\n",
      "\u001b[31m│\u001b[0m \u001b[33m│\u001b[0m                     \u001b[2m│   \u001b[0m\u001b[1m)\u001b[0m,                                               \u001b[33m│\u001b[0m \u001b[31m│\u001b[0m\n",
      "\u001b[31m│\u001b[0m \u001b[33m│\u001b[0m                     \u001b[1m)\u001b[0m                                                    \u001b[33m│\u001b[0m \u001b[31m│\u001b[0m\n",
      "\u001b[31m│\u001b[0m \u001b[33m│\u001b[0m            method = \u001b[33m'GET'\u001b[0m                                                \u001b[33m│\u001b[0m \u001b[31m│\u001b[0m\n",
      "\u001b[31m│\u001b[0m \u001b[33m│\u001b[0m         new_retry = \u001b[1;35mRetry\u001b[0m\u001b[1m(\u001b[0m\u001b[33mtotal\u001b[0m=\u001b[94m-1\u001b[0m, \u001b[33mconnect\u001b[0m=\u001b[94mNone\u001b[0m, \u001b[33mread\u001b[0m=\u001b[94mFalse\u001b[0m,            \u001b[33m│\u001b[0m \u001b[31m│\u001b[0m\n",
      "\u001b[31m│\u001b[0m \u001b[33m│\u001b[0m                     \u001b[33mredirect\u001b[0m=\u001b[94mNone\u001b[0m, \u001b[33mstatus\u001b[0m=\u001b[94mNone\u001b[0m\u001b[1m)\u001b[0m                          \u001b[33m│\u001b[0m \u001b[31m│\u001b[0m\n",
      "\u001b[31m│\u001b[0m \u001b[33m│\u001b[0m             other = \u001b[94mNone\u001b[0m                                                 \u001b[33m│\u001b[0m \u001b[31m│\u001b[0m\n",
      "\u001b[31m│\u001b[0m \u001b[33m│\u001b[0m              read = \u001b[94mFalse\u001b[0m                                                \u001b[33m│\u001b[0m \u001b[31m│\u001b[0m\n",
      "\u001b[31m│\u001b[0m \u001b[33m│\u001b[0m            reason = \u001b[1;35mNameResolutionError\u001b[0m\u001b[1m(\u001b[0m\u001b[33m\"\u001b[0m\u001b[1;33m<\u001b[0m\u001b[1;33murllib3.connection.HTTPSConne…\u001b[0m \u001b[33m│\u001b[0m \u001b[31m│\u001b[0m\n",
      "\u001b[31m│\u001b[0m \u001b[33m│\u001b[0m                     \u001b[33mobject at 0x7ee673eabeb0\u001b[0m\u001b[1;33m>\u001b[0m\u001b[33m: Failed to resolve \u001b[0m        \u001b[33m│\u001b[0m \u001b[31m│\u001b[0m\n",
      "\u001b[31m│\u001b[0m \u001b[33m│\u001b[0m                     \u001b[33m'raw.githubusercontent.com' \u001b[0m\u001b[1;33m(\u001b[0m\u001b[1;33m[\u001b[0m\u001b[33mErrno -3\u001b[0m\u001b[1;33m]\u001b[0m\u001b[33m Temporary \u001b[0m   \u001b[33m│\u001b[0m \u001b[31m│\u001b[0m\n",
      "\u001b[31m│\u001b[0m \u001b[33m│\u001b[0m                     \u001b[33mfailure in name resolution\u001b[0m\u001b[1;33m)\u001b[0m\u001b[33m\"\u001b[0m\u001b[1m)\u001b[0m                        \u001b[33m│\u001b[0m \u001b[31m│\u001b[0m\n",
      "\u001b[31m│\u001b[0m \u001b[33m│\u001b[0m          redirect = \u001b[94mNone\u001b[0m                                                 \u001b[33m│\u001b[0m \u001b[31m│\u001b[0m\n",
      "\u001b[31m│\u001b[0m \u001b[33m│\u001b[0m redirect_location = \u001b[94mNone\u001b[0m                                                 \u001b[33m│\u001b[0m \u001b[31m│\u001b[0m\n",
      "\u001b[31m│\u001b[0m \u001b[33m│\u001b[0m          response = \u001b[94mNone\u001b[0m                                                 \u001b[33m│\u001b[0m \u001b[31m│\u001b[0m\n",
      "\u001b[31m│\u001b[0m \u001b[33m│\u001b[0m              self = \u001b[1;35mRetry\u001b[0m\u001b[1m(\u001b[0m\u001b[33mtotal\u001b[0m=\u001b[94m0\u001b[0m, \u001b[33mconnect\u001b[0m=\u001b[94mNone\u001b[0m, \u001b[33mread\u001b[0m=\u001b[94mFalse\u001b[0m,             \u001b[33m│\u001b[0m \u001b[31m│\u001b[0m\n",
      "\u001b[31m│\u001b[0m \u001b[33m│\u001b[0m                     \u001b[33mredirect\u001b[0m=\u001b[94mNone\u001b[0m, \u001b[33mstatus\u001b[0m=\u001b[94mNone\u001b[0m\u001b[1m)\u001b[0m                          \u001b[33m│\u001b[0m \u001b[31m│\u001b[0m\n",
      "\u001b[31m│\u001b[0m \u001b[33m│\u001b[0m            status = \u001b[94mNone\u001b[0m                                                 \u001b[33m│\u001b[0m \u001b[31m│\u001b[0m\n",
      "\u001b[31m│\u001b[0m \u001b[33m│\u001b[0m      status_count = \u001b[94mNone\u001b[0m                                                 \u001b[33m│\u001b[0m \u001b[31m│\u001b[0m\n",
      "\u001b[31m│\u001b[0m \u001b[33m│\u001b[0m             total = \u001b[94m-1\u001b[0m                                                   \u001b[33m│\u001b[0m \u001b[31m│\u001b[0m\n",
      "\u001b[31m│\u001b[0m \u001b[33m│\u001b[0m               url = \u001b[33m'/karpathy/makemore/master/names.txt'\u001b[0m                \u001b[33m│\u001b[0m \u001b[31m│\u001b[0m\n",
      "\u001b[31m│\u001b[0m \u001b[33m╰──────────────────────────────────────────────────────────────────────────╯\u001b[0m \u001b[31m│\u001b[0m\n",
      "\u001b[31m╰──────────────────────────────────────────────────────────────────────────────╯\u001b[0m\n",
      "\u001b[1;91mMaxRetryError: \u001b[0m\u001b[1;35mHTTPSConnectionPool\u001b[0m\u001b[1m(\u001b[0m\u001b[33mhost\u001b[0m=\u001b[32m'raw.githubusercontent.com'\u001b[0m, \u001b[33mport\u001b[0m=\u001b[1;36m443\u001b[0m\u001b[1m)\u001b[0m: \n",
      "Max retries exceeded with url: \u001b[35m/karpathy/makemore/master/\u001b[0m\u001b[95mnames.txt\u001b[0m \u001b[1m(\u001b[0mCaused by \n",
      "\u001b[1;35mNameResolutionError\u001b[0m\u001b[1m(\u001b[0m\u001b[32m\"\u001b[0m\u001b[32m<\u001b[0m\u001b[32murllib3.connection.HTTPSConnection\u001b[0m\u001b[32m object at \u001b[0m\n",
      "\u001b[32m0x7ee673eabeb0\u001b[0m\u001b[32m>\u001b[0m\u001b[32m: Failed to resolve 'raw.githubusercontent.com' \u001b[0m\u001b[32m(\u001b[0m\u001b[32m[\u001b[0m\u001b[32mErrno -3\u001b[0m\u001b[32m]\u001b[0m\u001b[32m \u001b[0m\n",
      "\u001b[32mTemporary failure in name resolution\u001b[0m\u001b[32m)\u001b[0m\u001b[32m\"\u001b[0m\u001b[1m)\u001b[0m\u001b[1m)\u001b[0m\n",
      "\n",
      "\u001b[3mDuring handling of the above exception, another exception occurred:\u001b[0m\n",
      "\n",
      "\u001b[31m╭─\u001b[0m\u001b[31m────────────────────\u001b[0m\u001b[31m \u001b[0m\u001b[1;31mTraceback \u001b[0m\u001b[1;2;31m(most recent call last)\u001b[0m\u001b[31m \u001b[0m\u001b[31m─────────────────────\u001b[0m\u001b[31m─╮\u001b[0m\n",
      "\u001b[31m│\u001b[0m \u001b[2;33m/home/linx/code_workspace/makemore/notebooks/../makemore/\u001b[0m\u001b[1;33mdataset.py\u001b[0m:\u001b[94m24\u001b[0m in    \u001b[31m│\u001b[0m\n",
      "\u001b[31m│\u001b[0m \u001b[92mmain\u001b[0m                                                                         \u001b[31m│\u001b[0m\n",
      "\u001b[31m│\u001b[0m                                                                              \u001b[31m│\u001b[0m\n",
      "\u001b[31m│\u001b[0m   \u001b[2m21 \u001b[0m\u001b[2m│   \u001b[0m\u001b[2m# ---- REPLACE THIS WITH YOUR OWN CODE ----\u001b[0m                         \u001b[31m│\u001b[0m\n",
      "\u001b[31m│\u001b[0m   \u001b[2m22 \u001b[0m\u001b[2m│   \u001b[0mlogger.info(\u001b[33m\"\u001b[0m\u001b[33mDownloading dataset...\u001b[0m\u001b[33m\"\u001b[0m)                               \u001b[31m│\u001b[0m\n",
      "\u001b[31m│\u001b[0m   \u001b[2m23 \u001b[0m\u001b[2m│   \u001b[0m\u001b[94mfor\u001b[0m i \u001b[95min\u001b[0m tqdm(\u001b[96mrange\u001b[0m(\u001b[94m1\u001b[0m), total=\u001b[94m1\u001b[0m):                                   \u001b[31m│\u001b[0m\n",
      "\u001b[31m│\u001b[0m \u001b[31m❱ \u001b[0m24 \u001b[2m│   │   \u001b[0mresponse = requests.get(DATASET_URL)                            \u001b[31m│\u001b[0m\n",
      "\u001b[31m│\u001b[0m   \u001b[2m25 \u001b[0m\u001b[2m│   │   \u001b[0m\u001b[94mwith\u001b[0m \u001b[96mopen\u001b[0m(input_path, \u001b[33m\"\u001b[0m\u001b[33mwb\u001b[0m\u001b[33m\"\u001b[0m) \u001b[94mas\u001b[0m f:                               \u001b[31m│\u001b[0m\n",
      "\u001b[31m│\u001b[0m   \u001b[2m26 \u001b[0m\u001b[2m│   │   │   \u001b[0mf.write(response.content)                                   \u001b[31m│\u001b[0m\n",
      "\u001b[31m│\u001b[0m   \u001b[2m27 \u001b[0m\u001b[2m│   \u001b[0mlogger.info(\u001b[33m\"\u001b[0m\u001b[33mnamex.txt correctly download!\u001b[0m\u001b[33m\"\u001b[0m)                        \u001b[31m│\u001b[0m\n",
      "\u001b[31m│\u001b[0m                                                                              \u001b[31m│\u001b[0m\n",
      "\u001b[31m│\u001b[0m \u001b[33m╭─\u001b[0m\u001b[33m────────────────────────────────\u001b[0m\u001b[33m locals \u001b[0m\u001b[33m────────────────────────────────\u001b[0m\u001b[33m─╮\u001b[0m \u001b[31m│\u001b[0m\n",
      "\u001b[31m│\u001b[0m \u001b[33m│\u001b[0m          i = \u001b[94m0\u001b[0m                                                           \u001b[33m│\u001b[0m \u001b[31m│\u001b[0m\n",
      "\u001b[31m│\u001b[0m \u001b[33m│\u001b[0m input_path = \u001b[1;35mPosixPath\u001b[0m\u001b[1m(\u001b[0m\u001b[33m'/home/linx/code_workspace/makemore/data/raw/nam…\u001b[0m \u001b[33m│\u001b[0m \u001b[31m│\u001b[0m\n",
      "\u001b[31m│\u001b[0m \u001b[33m╰──────────────────────────────────────────────────────────────────────────╯\u001b[0m \u001b[31m│\u001b[0m\n",
      "\u001b[31m│\u001b[0m                                                                              \u001b[31m│\u001b[0m\n",
      "\u001b[31m│\u001b[0m \u001b[2;33m/home/linx/code_workspace/makemore/env/lib/python3.10/site-packages/requests\u001b[0m \u001b[31m│\u001b[0m\n",
      "\u001b[31m│\u001b[0m \u001b[2;33m/\u001b[0m\u001b[1;33mapi.py\u001b[0m:\u001b[94m73\u001b[0m in \u001b[92mget\u001b[0m                                                            \u001b[31m│\u001b[0m\n",
      "\u001b[31m│\u001b[0m                                                                              \u001b[31m│\u001b[0m\n",
      "\u001b[31m│\u001b[0m   \u001b[2m 70 \u001b[0m\u001b[2;33m│   \u001b[0m\u001b[33m:rtype: requests.Response\u001b[0m                                          \u001b[31m│\u001b[0m\n",
      "\u001b[31m│\u001b[0m   \u001b[2m 71 \u001b[0m\u001b[2;33m│   \u001b[0m\u001b[33m\"\"\"\u001b[0m                                                                \u001b[31m│\u001b[0m\n",
      "\u001b[31m│\u001b[0m   \u001b[2m 72 \u001b[0m\u001b[2m│   \u001b[0m                                                                   \u001b[31m│\u001b[0m\n",
      "\u001b[31m│\u001b[0m \u001b[31m❱ \u001b[0m 73 \u001b[2m│   \u001b[0m\u001b[94mreturn\u001b[0m request(\u001b[33m\"\u001b[0m\u001b[33mget\u001b[0m\u001b[33m\"\u001b[0m, url, params=params, **kwargs)                \u001b[31m│\u001b[0m\n",
      "\u001b[31m│\u001b[0m   \u001b[2m 74 \u001b[0m                                                                       \u001b[31m│\u001b[0m\n",
      "\u001b[31m│\u001b[0m   \u001b[2m 75 \u001b[0m                                                                       \u001b[31m│\u001b[0m\n",
      "\u001b[31m│\u001b[0m   \u001b[2m 76 \u001b[0m\u001b[94mdef\u001b[0m \u001b[92moptions\u001b[0m(url, **kwargs):                                            \u001b[31m│\u001b[0m\n",
      "\u001b[31m│\u001b[0m                                                                              \u001b[31m│\u001b[0m\n",
      "\u001b[31m│\u001b[0m \u001b[33m╭─\u001b[0m\u001b[33m────────────────────────────────\u001b[0m\u001b[33m locals \u001b[0m\u001b[33m────────────────────────────────\u001b[0m\u001b[33m─╮\u001b[0m \u001b[31m│\u001b[0m\n",
      "\u001b[31m│\u001b[0m \u001b[33m│\u001b[0m kwargs = \u001b[1m{\u001b[0m\u001b[1m}\u001b[0m                                                              \u001b[33m│\u001b[0m \u001b[31m│\u001b[0m\n",
      "\u001b[31m│\u001b[0m \u001b[33m│\u001b[0m params = \u001b[94mNone\u001b[0m                                                            \u001b[33m│\u001b[0m \u001b[31m│\u001b[0m\n",
      "\u001b[31m│\u001b[0m \u001b[33m│\u001b[0m    url = \u001b[33m'https://raw.githubusercontent.com/karpathy/makemore/master/na…\u001b[0m \u001b[33m│\u001b[0m \u001b[31m│\u001b[0m\n",
      "\u001b[31m│\u001b[0m \u001b[33m╰──────────────────────────────────────────────────────────────────────────╯\u001b[0m \u001b[31m│\u001b[0m\n",
      "\u001b[31m│\u001b[0m                                                                              \u001b[31m│\u001b[0m\n",
      "\u001b[31m│\u001b[0m \u001b[2;33m/home/linx/code_workspace/makemore/env/lib/python3.10/site-packages/requests\u001b[0m \u001b[31m│\u001b[0m\n",
      "\u001b[31m│\u001b[0m \u001b[2;33m/\u001b[0m\u001b[1;33mapi.py\u001b[0m:\u001b[94m59\u001b[0m in \u001b[92mrequest\u001b[0m                                                        \u001b[31m│\u001b[0m\n",
      "\u001b[31m│\u001b[0m                                                                              \u001b[31m│\u001b[0m\n",
      "\u001b[31m│\u001b[0m   \u001b[2m 56 \u001b[0m\u001b[2m│   \u001b[0m\u001b[2m# avoid leaving sockets open which can trigger a ResourceWarning i\u001b[0m \u001b[31m│\u001b[0m\n",
      "\u001b[31m│\u001b[0m   \u001b[2m 57 \u001b[0m\u001b[2m│   \u001b[0m\u001b[2m# cases, and look like a memory leak in others.\u001b[0m                    \u001b[31m│\u001b[0m\n",
      "\u001b[31m│\u001b[0m   \u001b[2m 58 \u001b[0m\u001b[2m│   \u001b[0m\u001b[94mwith\u001b[0m sessions.Session() \u001b[94mas\u001b[0m session:                                \u001b[31m│\u001b[0m\n",
      "\u001b[31m│\u001b[0m \u001b[31m❱ \u001b[0m 59 \u001b[2m│   │   \u001b[0m\u001b[94mreturn\u001b[0m session.request(method=method, url=url, **kwargs)       \u001b[31m│\u001b[0m\n",
      "\u001b[31m│\u001b[0m   \u001b[2m 60 \u001b[0m                                                                       \u001b[31m│\u001b[0m\n",
      "\u001b[31m│\u001b[0m   \u001b[2m 61 \u001b[0m                                                                       \u001b[31m│\u001b[0m\n",
      "\u001b[31m│\u001b[0m   \u001b[2m 62 \u001b[0m\u001b[94mdef\u001b[0m \u001b[92mget\u001b[0m(url, params=\u001b[94mNone\u001b[0m, **kwargs):                                   \u001b[31m│\u001b[0m\n",
      "\u001b[31m│\u001b[0m                                                                              \u001b[31m│\u001b[0m\n",
      "\u001b[31m│\u001b[0m \u001b[33m╭─\u001b[0m\u001b[33m────────────────────────────────\u001b[0m\u001b[33m locals \u001b[0m\u001b[33m────────────────────────────────\u001b[0m\u001b[33m─╮\u001b[0m \u001b[31m│\u001b[0m\n",
      "\u001b[31m│\u001b[0m \u001b[33m│\u001b[0m  kwargs = \u001b[1m{\u001b[0m\u001b[33m'params'\u001b[0m: \u001b[94mNone\u001b[0m\u001b[1m}\u001b[0m                                               \u001b[33m│\u001b[0m \u001b[31m│\u001b[0m\n",
      "\u001b[31m│\u001b[0m \u001b[33m│\u001b[0m  method = \u001b[33m'get'\u001b[0m                                                          \u001b[33m│\u001b[0m \u001b[31m│\u001b[0m\n",
      "\u001b[31m│\u001b[0m \u001b[33m│\u001b[0m session = \u001b[1m<\u001b[0m\u001b[1;95mrequests.sessions.Session\u001b[0m\u001b[39m object at \u001b[0m\u001b[94m0x7ee673eab3d0\u001b[0m\u001b[1m>\u001b[0m           \u001b[33m│\u001b[0m \u001b[31m│\u001b[0m\n",
      "\u001b[31m│\u001b[0m \u001b[33m│\u001b[0m     url = \u001b[33m'https://raw.githubusercontent.com/karpathy/makemore/master/n…\u001b[0m \u001b[33m│\u001b[0m \u001b[31m│\u001b[0m\n",
      "\u001b[31m│\u001b[0m \u001b[33m╰──────────────────────────────────────────────────────────────────────────╯\u001b[0m \u001b[31m│\u001b[0m\n",
      "\u001b[31m│\u001b[0m                                                                              \u001b[31m│\u001b[0m\n",
      "\u001b[31m│\u001b[0m \u001b[2;33m/home/linx/code_workspace/makemore/env/lib/python3.10/site-packages/requests\u001b[0m \u001b[31m│\u001b[0m\n",
      "\u001b[31m│\u001b[0m \u001b[2;33m/\u001b[0m\u001b[1;33msessions.py\u001b[0m:\u001b[94m589\u001b[0m in \u001b[92mrequest\u001b[0m                                                  \u001b[31m│\u001b[0m\n",
      "\u001b[31m│\u001b[0m                                                                              \u001b[31m│\u001b[0m\n",
      "\u001b[31m│\u001b[0m   \u001b[2m586 \u001b[0m\u001b[2m│   │   │   \u001b[0m\u001b[33m\"\u001b[0m\u001b[33mallow_redirects\u001b[0m\u001b[33m\"\u001b[0m: allow_redirects,                        \u001b[31m│\u001b[0m\n",
      "\u001b[31m│\u001b[0m   \u001b[2m587 \u001b[0m\u001b[2m│   │   \u001b[0m}                                                              \u001b[31m│\u001b[0m\n",
      "\u001b[31m│\u001b[0m   \u001b[2m588 \u001b[0m\u001b[2m│   │   \u001b[0msend_kwargs.update(settings)                                   \u001b[31m│\u001b[0m\n",
      "\u001b[31m│\u001b[0m \u001b[31m❱ \u001b[0m589 \u001b[2m│   │   \u001b[0mresp = \u001b[96mself\u001b[0m.send(prep, **send_kwargs)                          \u001b[31m│\u001b[0m\n",
      "\u001b[31m│\u001b[0m   \u001b[2m590 \u001b[0m\u001b[2m│   │   \u001b[0m                                                               \u001b[31m│\u001b[0m\n",
      "\u001b[31m│\u001b[0m   \u001b[2m591 \u001b[0m\u001b[2m│   │   \u001b[0m\u001b[94mreturn\u001b[0m resp                                                    \u001b[31m│\u001b[0m\n",
      "\u001b[31m│\u001b[0m   \u001b[2m592 \u001b[0m                                                                       \u001b[31m│\u001b[0m\n",
      "\u001b[31m│\u001b[0m                                                                              \u001b[31m│\u001b[0m\n",
      "\u001b[31m│\u001b[0m \u001b[33m╭─\u001b[0m\u001b[33m────────────────────────────────\u001b[0m\u001b[33m locals \u001b[0m\u001b[33m────────────────────────────────\u001b[0m\u001b[33m─╮\u001b[0m \u001b[31m│\u001b[0m\n",
      "\u001b[31m│\u001b[0m \u001b[33m│\u001b[0m allow_redirects = \u001b[94mTrue\u001b[0m                                                   \u001b[33m│\u001b[0m \u001b[31m│\u001b[0m\n",
      "\u001b[31m│\u001b[0m \u001b[33m│\u001b[0m            auth = \u001b[94mNone\u001b[0m                                                   \u001b[33m│\u001b[0m \u001b[31m│\u001b[0m\n",
      "\u001b[31m│\u001b[0m \u001b[33m│\u001b[0m            cert = \u001b[94mNone\u001b[0m                                                   \u001b[33m│\u001b[0m \u001b[31m│\u001b[0m\n",
      "\u001b[31m│\u001b[0m \u001b[33m│\u001b[0m         cookies = \u001b[94mNone\u001b[0m                                                   \u001b[33m│\u001b[0m \u001b[31m│\u001b[0m\n",
      "\u001b[31m│\u001b[0m \u001b[33m│\u001b[0m            data = \u001b[94mNone\u001b[0m                                                   \u001b[33m│\u001b[0m \u001b[31m│\u001b[0m\n",
      "\u001b[31m│\u001b[0m \u001b[33m│\u001b[0m           files = \u001b[94mNone\u001b[0m                                                   \u001b[33m│\u001b[0m \u001b[31m│\u001b[0m\n",
      "\u001b[31m│\u001b[0m \u001b[33m│\u001b[0m         headers = \u001b[94mNone\u001b[0m                                                   \u001b[33m│\u001b[0m \u001b[31m│\u001b[0m\n",
      "\u001b[31m│\u001b[0m \u001b[33m│\u001b[0m           hooks = \u001b[94mNone\u001b[0m                                                   \u001b[33m│\u001b[0m \u001b[31m│\u001b[0m\n",
      "\u001b[31m│\u001b[0m \u001b[33m│\u001b[0m            json = \u001b[94mNone\u001b[0m                                                   \u001b[33m│\u001b[0m \u001b[31m│\u001b[0m\n",
      "\u001b[31m│\u001b[0m \u001b[33m│\u001b[0m          method = \u001b[33m'get'\u001b[0m                                                  \u001b[33m│\u001b[0m \u001b[31m│\u001b[0m\n",
      "\u001b[31m│\u001b[0m \u001b[33m│\u001b[0m          params = \u001b[94mNone\u001b[0m                                                   \u001b[33m│\u001b[0m \u001b[31m│\u001b[0m\n",
      "\u001b[31m│\u001b[0m \u001b[33m│\u001b[0m            prep = \u001b[1m<\u001b[0m\u001b[1;95mPreparedRequest\u001b[0m\u001b[39m \u001b[0m\u001b[1;39m[\u001b[0m\u001b[39mGET\u001b[0m\u001b[1;39m]\u001b[0m\u001b[1m>\u001b[0m                                \u001b[33m│\u001b[0m \u001b[31m│\u001b[0m\n",
      "\u001b[31m│\u001b[0m \u001b[33m│\u001b[0m         proxies = \u001b[1m{\u001b[0m\u001b[1m}\u001b[0m                                                     \u001b[33m│\u001b[0m \u001b[31m│\u001b[0m\n",
      "\u001b[31m│\u001b[0m \u001b[33m│\u001b[0m             req = \u001b[1m<\u001b[0m\u001b[1;95mRequest\u001b[0m\u001b[39m \u001b[0m\u001b[1;39m[\u001b[0m\u001b[39mGET\u001b[0m\u001b[1;39m]\u001b[0m\u001b[1m>\u001b[0m                                        \u001b[33m│\u001b[0m \u001b[31m│\u001b[0m\n",
      "\u001b[31m│\u001b[0m \u001b[33m│\u001b[0m            self = \u001b[1m<\u001b[0m\u001b[1;95mrequests.sessions.Session\u001b[0m\u001b[39m object at \u001b[0m\u001b[94m0x7ee673eab3d0\u001b[0m\u001b[1m>\u001b[0m   \u001b[33m│\u001b[0m \u001b[31m│\u001b[0m\n",
      "\u001b[31m│\u001b[0m \u001b[33m│\u001b[0m     send_kwargs = \u001b[1m{\u001b[0m                                                      \u001b[33m│\u001b[0m \u001b[31m│\u001b[0m\n",
      "\u001b[31m│\u001b[0m \u001b[33m│\u001b[0m                   \u001b[2m│   \u001b[0m\u001b[33m'timeout'\u001b[0m: \u001b[94mNone\u001b[0m,                                   \u001b[33m│\u001b[0m \u001b[31m│\u001b[0m\n",
      "\u001b[31m│\u001b[0m \u001b[33m│\u001b[0m                   \u001b[2m│   \u001b[0m\u001b[33m'allow_redirects'\u001b[0m: \u001b[94mTrue\u001b[0m,                           \u001b[33m│\u001b[0m \u001b[31m│\u001b[0m\n",
      "\u001b[31m│\u001b[0m \u001b[33m│\u001b[0m                   \u001b[2m│   \u001b[0m\u001b[33m'proxies'\u001b[0m: \u001b[1;35mOrderedDict\u001b[0m\u001b[1m(\u001b[0m\u001b[1m)\u001b[0m,                          \u001b[33m│\u001b[0m \u001b[31m│\u001b[0m\n",
      "\u001b[31m│\u001b[0m \u001b[33m│\u001b[0m                   \u001b[2m│   \u001b[0m\u001b[33m'stream'\u001b[0m: \u001b[94mFalse\u001b[0m,                                   \u001b[33m│\u001b[0m \u001b[31m│\u001b[0m\n",
      "\u001b[31m│\u001b[0m \u001b[33m│\u001b[0m                   \u001b[2m│   \u001b[0m\u001b[33m'verify'\u001b[0m: \u001b[94mTrue\u001b[0m,                                    \u001b[33m│\u001b[0m \u001b[31m│\u001b[0m\n",
      "\u001b[31m│\u001b[0m \u001b[33m│\u001b[0m                   \u001b[2m│   \u001b[0m\u001b[33m'cert'\u001b[0m: \u001b[94mNone\u001b[0m                                       \u001b[33m│\u001b[0m \u001b[31m│\u001b[0m\n",
      "\u001b[31m│\u001b[0m \u001b[33m│\u001b[0m                   \u001b[1m}\u001b[0m                                                      \u001b[33m│\u001b[0m \u001b[31m│\u001b[0m\n",
      "\u001b[31m│\u001b[0m \u001b[33m│\u001b[0m        settings = \u001b[1m{\u001b[0m                                                      \u001b[33m│\u001b[0m \u001b[31m│\u001b[0m\n",
      "\u001b[31m│\u001b[0m \u001b[33m│\u001b[0m                   \u001b[2m│   \u001b[0m\u001b[33m'proxies'\u001b[0m: \u001b[1;35mOrderedDict\u001b[0m\u001b[1m(\u001b[0m\u001b[1m)\u001b[0m,                          \u001b[33m│\u001b[0m \u001b[31m│\u001b[0m\n",
      "\u001b[31m│\u001b[0m \u001b[33m│\u001b[0m                   \u001b[2m│   \u001b[0m\u001b[33m'stream'\u001b[0m: \u001b[94mFalse\u001b[0m,                                   \u001b[33m│\u001b[0m \u001b[31m│\u001b[0m\n",
      "\u001b[31m│\u001b[0m \u001b[33m│\u001b[0m                   \u001b[2m│   \u001b[0m\u001b[33m'verify'\u001b[0m: \u001b[94mTrue\u001b[0m,                                    \u001b[33m│\u001b[0m \u001b[31m│\u001b[0m\n",
      "\u001b[31m│\u001b[0m \u001b[33m│\u001b[0m                   \u001b[2m│   \u001b[0m\u001b[33m'cert'\u001b[0m: \u001b[94mNone\u001b[0m                                       \u001b[33m│\u001b[0m \u001b[31m│\u001b[0m\n",
      "\u001b[31m│\u001b[0m \u001b[33m│\u001b[0m                   \u001b[1m}\u001b[0m                                                      \u001b[33m│\u001b[0m \u001b[31m│\u001b[0m\n",
      "\u001b[31m│\u001b[0m \u001b[33m│\u001b[0m          stream = \u001b[94mNone\u001b[0m                                                   \u001b[33m│\u001b[0m \u001b[31m│\u001b[0m\n",
      "\u001b[31m│\u001b[0m \u001b[33m│\u001b[0m         timeout = \u001b[94mNone\u001b[0m                                                   \u001b[33m│\u001b[0m \u001b[31m│\u001b[0m\n",
      "\u001b[31m│\u001b[0m \u001b[33m│\u001b[0m             url = \u001b[33m'https://raw.githubusercontent.com/karpathy/makemore/…\u001b[0m \u001b[33m│\u001b[0m \u001b[31m│\u001b[0m\n",
      "\u001b[31m│\u001b[0m \u001b[33m│\u001b[0m          verify = \u001b[94mNone\u001b[0m                                                   \u001b[33m│\u001b[0m \u001b[31m│\u001b[0m\n",
      "\u001b[31m│\u001b[0m \u001b[33m╰──────────────────────────────────────────────────────────────────────────╯\u001b[0m \u001b[31m│\u001b[0m\n",
      "\u001b[31m│\u001b[0m                                                                              \u001b[31m│\u001b[0m\n",
      "\u001b[31m│\u001b[0m \u001b[2;33m/home/linx/code_workspace/makemore/env/lib/python3.10/site-packages/requests\u001b[0m \u001b[31m│\u001b[0m\n",
      "\u001b[31m│\u001b[0m \u001b[2;33m/\u001b[0m\u001b[1;33msessions.py\u001b[0m:\u001b[94m703\u001b[0m in \u001b[92msend\u001b[0m                                                     \u001b[31m│\u001b[0m\n",
      "\u001b[31m│\u001b[0m                                                                              \u001b[31m│\u001b[0m\n",
      "\u001b[31m│\u001b[0m   \u001b[2m700 \u001b[0m\u001b[2m│   │   \u001b[0mstart = preferred_clock()                                      \u001b[31m│\u001b[0m\n",
      "\u001b[31m│\u001b[0m   \u001b[2m701 \u001b[0m\u001b[2m│   │   \u001b[0m                                                               \u001b[31m│\u001b[0m\n",
      "\u001b[31m│\u001b[0m   \u001b[2m702 \u001b[0m\u001b[2m│   │   \u001b[0m\u001b[2m# Send the request\u001b[0m                                             \u001b[31m│\u001b[0m\n",
      "\u001b[31m│\u001b[0m \u001b[31m❱ \u001b[0m703 \u001b[2m│   │   \u001b[0mr = adapter.send(request, **kwargs)                            \u001b[31m│\u001b[0m\n",
      "\u001b[31m│\u001b[0m   \u001b[2m704 \u001b[0m\u001b[2m│   │   \u001b[0m                                                               \u001b[31m│\u001b[0m\n",
      "\u001b[31m│\u001b[0m   \u001b[2m705 \u001b[0m\u001b[2m│   │   \u001b[0m\u001b[2m# Total elapsed time of the request (approximately)\u001b[0m            \u001b[31m│\u001b[0m\n",
      "\u001b[31m│\u001b[0m   \u001b[2m706 \u001b[0m\u001b[2m│   │   \u001b[0melapsed = preferred_clock() - start                            \u001b[31m│\u001b[0m\n",
      "\u001b[31m│\u001b[0m                                                                              \u001b[31m│\u001b[0m\n",
      "\u001b[31m│\u001b[0m \u001b[33m╭─\u001b[0m\u001b[33m────────────────────────────────\u001b[0m\u001b[33m locals \u001b[0m\u001b[33m────────────────────────────────\u001b[0m\u001b[33m─╮\u001b[0m \u001b[31m│\u001b[0m\n",
      "\u001b[31m│\u001b[0m \u001b[33m│\u001b[0m         adapter = \u001b[1m<\u001b[0m\u001b[1;95mrequests.adapters.HTTPAdapter\u001b[0m\u001b[39m object at \u001b[0m              \u001b[33m│\u001b[0m \u001b[31m│\u001b[0m\n",
      "\u001b[31m│\u001b[0m \u001b[33m│\u001b[0m                   \u001b[94m0x7ee673eab460\u001b[0m\u001b[1m>\u001b[0m                                        \u001b[33m│\u001b[0m \u001b[31m│\u001b[0m\n",
      "\u001b[31m│\u001b[0m \u001b[33m│\u001b[0m allow_redirects = \u001b[94mTrue\u001b[0m                                                   \u001b[33m│\u001b[0m \u001b[31m│\u001b[0m\n",
      "\u001b[31m│\u001b[0m \u001b[33m│\u001b[0m           hooks = \u001b[1m{\u001b[0m\u001b[33m'response'\u001b[0m: \u001b[1m[\u001b[0m\u001b[1m]\u001b[0m\u001b[1m}\u001b[0m                                       \u001b[33m│\u001b[0m \u001b[31m│\u001b[0m\n",
      "\u001b[31m│\u001b[0m \u001b[33m│\u001b[0m          kwargs = \u001b[1m{\u001b[0m                                                      \u001b[33m│\u001b[0m \u001b[31m│\u001b[0m\n",
      "\u001b[31m│\u001b[0m \u001b[33m│\u001b[0m                   \u001b[2m│   \u001b[0m\u001b[33m'timeout'\u001b[0m: \u001b[94mNone\u001b[0m,                                   \u001b[33m│\u001b[0m \u001b[31m│\u001b[0m\n",
      "\u001b[31m│\u001b[0m \u001b[33m│\u001b[0m                   \u001b[2m│   \u001b[0m\u001b[33m'proxies'\u001b[0m: \u001b[1;35mOrderedDict\u001b[0m\u001b[1m(\u001b[0m\u001b[1m)\u001b[0m,                          \u001b[33m│\u001b[0m \u001b[31m│\u001b[0m\n",
      "\u001b[31m│\u001b[0m \u001b[33m│\u001b[0m                   \u001b[2m│   \u001b[0m\u001b[33m'stream'\u001b[0m: \u001b[94mFalse\u001b[0m,                                   \u001b[33m│\u001b[0m \u001b[31m│\u001b[0m\n",
      "\u001b[31m│\u001b[0m \u001b[33m│\u001b[0m                   \u001b[2m│   \u001b[0m\u001b[33m'verify'\u001b[0m: \u001b[94mTrue\u001b[0m,                                    \u001b[33m│\u001b[0m \u001b[31m│\u001b[0m\n",
      "\u001b[31m│\u001b[0m \u001b[33m│\u001b[0m                   \u001b[2m│   \u001b[0m\u001b[33m'cert'\u001b[0m: \u001b[94mNone\u001b[0m                                       \u001b[33m│\u001b[0m \u001b[31m│\u001b[0m\n",
      "\u001b[31m│\u001b[0m \u001b[33m│\u001b[0m                   \u001b[1m}\u001b[0m                                                      \u001b[33m│\u001b[0m \u001b[31m│\u001b[0m\n",
      "\u001b[31m│\u001b[0m \u001b[33m│\u001b[0m         request = \u001b[1m<\u001b[0m\u001b[1;95mPreparedRequest\u001b[0m\u001b[39m \u001b[0m\u001b[1;39m[\u001b[0m\u001b[39mGET\u001b[0m\u001b[1;39m]\u001b[0m\u001b[1m>\u001b[0m                                \u001b[33m│\u001b[0m \u001b[31m│\u001b[0m\n",
      "\u001b[31m│\u001b[0m \u001b[33m│\u001b[0m            self = \u001b[1m<\u001b[0m\u001b[1;95mrequests.sessions.Session\u001b[0m\u001b[39m object at \u001b[0m\u001b[94m0x7ee673eab3d0\u001b[0m\u001b[1m>\u001b[0m   \u001b[33m│\u001b[0m \u001b[31m│\u001b[0m\n",
      "\u001b[31m│\u001b[0m \u001b[33m│\u001b[0m           start = \u001b[94m1718908371.108887\u001b[0m                                      \u001b[33m│\u001b[0m \u001b[31m│\u001b[0m\n",
      "\u001b[31m│\u001b[0m \u001b[33m│\u001b[0m          stream = \u001b[94mFalse\u001b[0m                                                  \u001b[33m│\u001b[0m \u001b[31m│\u001b[0m\n",
      "\u001b[31m│\u001b[0m \u001b[33m╰──────────────────────────────────────────────────────────────────────────╯\u001b[0m \u001b[31m│\u001b[0m\n",
      "\u001b[31m│\u001b[0m                                                                              \u001b[31m│\u001b[0m\n",
      "\u001b[31m│\u001b[0m \u001b[2;33m/home/linx/code_workspace/makemore/env/lib/python3.10/site-packages/requests\u001b[0m \u001b[31m│\u001b[0m\n",
      "\u001b[31m│\u001b[0m \u001b[2;33m/\u001b[0m\u001b[1;33madapters.py\u001b[0m:\u001b[94m700\u001b[0m in \u001b[92msend\u001b[0m                                                     \u001b[31m│\u001b[0m\n",
      "\u001b[31m│\u001b[0m                                                                              \u001b[31m│\u001b[0m\n",
      "\u001b[31m│\u001b[0m   \u001b[2m697 \u001b[0m\u001b[2m│   │   │   │   \u001b[0m\u001b[2m# This branch is for urllib3 v1.22 and later.\u001b[0m          \u001b[31m│\u001b[0m\n",
      "\u001b[31m│\u001b[0m   \u001b[2m698 \u001b[0m\u001b[2m│   │   │   │   \u001b[0m\u001b[94mraise\u001b[0m SSLError(e, request=request)                     \u001b[31m│\u001b[0m\n",
      "\u001b[31m│\u001b[0m   \u001b[2m699 \u001b[0m\u001b[2m│   │   │   \u001b[0m                                                           \u001b[31m│\u001b[0m\n",
      "\u001b[31m│\u001b[0m \u001b[31m❱ \u001b[0m700 \u001b[2m│   │   │   \u001b[0m\u001b[94mraise\u001b[0m \u001b[96mConnectionError\u001b[0m(e, request=request)                  \u001b[31m│\u001b[0m\n",
      "\u001b[31m│\u001b[0m   \u001b[2m701 \u001b[0m\u001b[2m│   │   \u001b[0m                                                               \u001b[31m│\u001b[0m\n",
      "\u001b[31m│\u001b[0m   \u001b[2m702 \u001b[0m\u001b[2m│   │   \u001b[0m\u001b[94mexcept\u001b[0m ClosedPoolError \u001b[94mas\u001b[0m e:                                   \u001b[31m│\u001b[0m\n",
      "\u001b[31m│\u001b[0m   \u001b[2m703 \u001b[0m\u001b[2m│   │   │   \u001b[0m\u001b[94mraise\u001b[0m \u001b[96mConnectionError\u001b[0m(e, request=request)                  \u001b[31m│\u001b[0m\n",
      "\u001b[31m│\u001b[0m                                                                              \u001b[31m│\u001b[0m\n",
      "\u001b[31m│\u001b[0m \u001b[33m╭─\u001b[0m\u001b[33m────────────────────────────────\u001b[0m\u001b[33m locals \u001b[0m\u001b[33m────────────────────────────────\u001b[0m\u001b[33m─╮\u001b[0m \u001b[31m│\u001b[0m\n",
      "\u001b[31m│\u001b[0m \u001b[33m│\u001b[0m    cert = \u001b[94mNone\u001b[0m                                                           \u001b[33m│\u001b[0m \u001b[31m│\u001b[0m\n",
      "\u001b[31m│\u001b[0m \u001b[33m│\u001b[0m chunked = \u001b[94mFalse\u001b[0m                                                          \u001b[33m│\u001b[0m \u001b[31m│\u001b[0m\n",
      "\u001b[31m│\u001b[0m \u001b[33m│\u001b[0m    conn = \u001b[1m<\u001b[0m\u001b[1;95murllib3.connectionpool.HTTPSConnectionPool\u001b[0m\u001b[39m object at \u001b[0m         \u001b[33m│\u001b[0m \u001b[31m│\u001b[0m\n",
      "\u001b[31m│\u001b[0m \u001b[33m│\u001b[0m           \u001b[94m0x7ee673eab6d0\u001b[0m\u001b[1m>\u001b[0m                                                \u001b[33m│\u001b[0m \u001b[31m│\u001b[0m\n",
      "\u001b[31m│\u001b[0m \u001b[33m│\u001b[0m proxies = \u001b[1;35mOrderedDict\u001b[0m\u001b[1m(\u001b[0m\u001b[1m)\u001b[0m                                                  \u001b[33m│\u001b[0m \u001b[31m│\u001b[0m\n",
      "\u001b[31m│\u001b[0m \u001b[33m│\u001b[0m request = \u001b[1m<\u001b[0m\u001b[1;95mPreparedRequest\u001b[0m\u001b[39m \u001b[0m\u001b[1;39m[\u001b[0m\u001b[39mGET\u001b[0m\u001b[1;39m]\u001b[0m\u001b[1m>\u001b[0m                                        \u001b[33m│\u001b[0m \u001b[31m│\u001b[0m\n",
      "\u001b[31m│\u001b[0m \u001b[33m│\u001b[0m    self = \u001b[1m<\u001b[0m\u001b[1;95mrequests.adapters.HTTPAdapter\u001b[0m\u001b[39m object at \u001b[0m\u001b[94m0x7ee673eab460\u001b[0m\u001b[1m>\u001b[0m       \u001b[33m│\u001b[0m \u001b[31m│\u001b[0m\n",
      "\u001b[31m│\u001b[0m \u001b[33m│\u001b[0m  stream = \u001b[94mFalse\u001b[0m                                                          \u001b[33m│\u001b[0m \u001b[31m│\u001b[0m\n",
      "\u001b[31m│\u001b[0m \u001b[33m│\u001b[0m timeout = \u001b[1;35mTimeout\u001b[0m\u001b[1m(\u001b[0m\u001b[33mconnect\u001b[0m=\u001b[94mNone\u001b[0m, \u001b[33mread\u001b[0m=\u001b[94mNone\u001b[0m, \u001b[33mtotal\u001b[0m=\u001b[94mNone\u001b[0m\u001b[1m)\u001b[0m                   \u001b[33m│\u001b[0m \u001b[31m│\u001b[0m\n",
      "\u001b[31m│\u001b[0m \u001b[33m│\u001b[0m     url = \u001b[33m'/karpathy/makemore/master/names.txt'\u001b[0m                          \u001b[33m│\u001b[0m \u001b[31m│\u001b[0m\n",
      "\u001b[31m│\u001b[0m \u001b[33m│\u001b[0m  verify = \u001b[94mTrue\u001b[0m                                                           \u001b[33m│\u001b[0m \u001b[31m│\u001b[0m\n",
      "\u001b[31m│\u001b[0m \u001b[33m╰──────────────────────────────────────────────────────────────────────────╯\u001b[0m \u001b[31m│\u001b[0m\n",
      "\u001b[31m╰──────────────────────────────────────────────────────────────────────────────╯\u001b[0m\n",
      "\u001b[1;91mConnectionError: \u001b[0m\u001b[1;35mHTTPSConnectionPool\u001b[0m\u001b[1m(\u001b[0m\u001b[33mhost\u001b[0m=\u001b[32m'raw.githubusercontent.com'\u001b[0m, \n",
      "\u001b[33mport\u001b[0m=\u001b[1;36m443\u001b[0m\u001b[1m)\u001b[0m: Max retries exceeded with url: \u001b[35m/karpathy/makemore/master/\u001b[0m\u001b[95mnames.txt\u001b[0m \n",
      "\u001b[1m(\u001b[0mCaused by \u001b[1;35mNameResolutionError\u001b[0m\u001b[1m(\u001b[0m\u001b[32m\"\u001b[0m\u001b[32m<\u001b[0m\u001b[32murllib3.connection.HTTPSConnection\u001b[0m\u001b[32m object at \u001b[0m\n",
      "\u001b[32m0x7ee673eabeb0\u001b[0m\u001b[32m>\u001b[0m\u001b[32m: Failed to resolve 'raw.githubusercontent.com' \u001b[0m\u001b[32m(\u001b[0m\u001b[32m[\u001b[0m\u001b[32mErrno -3\u001b[0m\u001b[32m]\u001b[0m\u001b[32m \u001b[0m\n",
      "\u001b[32mTemporary failure in name resolution\u001b[0m\u001b[32m)\u001b[0m\u001b[32m\"\u001b[0m\u001b[1m)\u001b[0m\u001b[1m)\u001b[0m\n"
     ]
    }
   ],
   "source": [
    "# Download the dataset\n",
    "!python ../makemore/dataset.py"
   ]
  },
  {
   "cell_type": "code",
   "execution_count": 3,
   "metadata": {},
   "outputs": [
    {
     "name": "stdout",
     "output_type": "stream",
     "text": [
      "['emma\\n', 'olivia\\n', 'ava\\n', 'isabella\\n', 'sophia\\n', 'charlotte\\n', 'mia\\n', 'amelia\\n', 'harper\\n', 'evelyn\\n']\n"
     ]
    },
    {
     "data": {
      "text/plain": [
       "['emma',\n",
       " 'olivia',\n",
       " 'ava',\n",
       " 'isabella',\n",
       " 'sophia',\n",
       " 'charlotte',\n",
       " 'mia',\n",
       " 'amelia',\n",
       " 'harper',\n",
       " 'evelyn']"
      ]
     },
     "execution_count": 3,
     "metadata": {},
     "output_type": "execute_result"
    }
   ],
   "source": [
    "DATASET_NAME = \"names.txt\"\n",
    "\n",
    "# Read words\n",
    "with open(RAW_DATA_DIR / DATASET_NAME, \"r\") as names_file:\n",
    "    names = names_file.readlines()\n",
    "\n",
    "print(names[:10])\n",
    "\n",
    "# Remove the \\n from all the names\n",
    "names = [name[:-1] for name in names]\n",
    "\n",
    "names[:10]"
   ]
  },
  {
   "cell_type": "code",
   "execution_count": 4,
   "metadata": {},
   "outputs": [
    {
     "data": {
      "text/plain": [
       "({'.': 0,\n",
       "  'q': 1,\n",
       "  'w': 2,\n",
       "  'e': 3,\n",
       "  'r': 4,\n",
       "  't': 5,\n",
       "  'y': 6,\n",
       "  'u': 7,\n",
       "  'i': 8,\n",
       "  'o': 9,\n",
       "  'p': 10,\n",
       "  'a': 11,\n",
       "  's': 12,\n",
       "  'd': 13,\n",
       "  'f': 14,\n",
       "  'g': 15,\n",
       "  'h': 16,\n",
       "  'j': 17,\n",
       "  'k': 18,\n",
       "  'l': 19,\n",
       "  'z': 20,\n",
       "  'x': 21,\n",
       "  'c': 22,\n",
       "  'v': 23,\n",
       "  'b': 24,\n",
       "  'n': 25,\n",
       "  'm': 26},\n",
       " {0: '.',\n",
       "  1: 'q',\n",
       "  2: 'w',\n",
       "  3: 'e',\n",
       "  4: 'r',\n",
       "  5: 't',\n",
       "  6: 'y',\n",
       "  7: 'u',\n",
       "  8: 'i',\n",
       "  9: 'o',\n",
       "  10: 'p',\n",
       "  11: 'a',\n",
       "  12: 's',\n",
       "  13: 'd',\n",
       "  14: 'f',\n",
       "  15: 'g',\n",
       "  16: 'h',\n",
       "  17: 'j',\n",
       "  18: 'k',\n",
       "  19: 'l',\n",
       "  20: 'z',\n",
       "  21: 'x',\n",
       "  22: 'c',\n",
       "  23: 'v',\n",
       "  24: 'b',\n",
       "  25: 'n',\n",
       "  26: 'm'})"
      ]
     },
     "execution_count": 4,
     "metadata": {},
     "output_type": "execute_result"
    }
   ],
   "source": [
    "# Generate decoder and encoder for chars\n",
    "chars = \".qwertyuiopasdfghjklzxcvbnm\" # All available letters in latin alphabet plus .\n",
    "decoder, encoder = {}, {}\n",
    "\n",
    "for i, ch in enumerate(chars):\n",
    "    encoder[ch] = i\n",
    "    decoder[i] = ch\n",
    "\n",
    "encoder, decoder  "
   ]
  },
  {
   "cell_type": "code",
   "execution_count": 5,
   "metadata": {},
   "outputs": [],
   "source": [
    "import torch\n",
    "import torch.nn.functional as F\n",
    "import matplotlib.pyplot as plt"
   ]
  },
  {
   "cell_type": "markdown",
   "metadata": {},
   "source": [
    "First, we will attempt to understand the structure based on the image shown below. This is an MLP where the input consists of the three previous characters. The goal of the model is to predict the next character given a contextual block. These characters are first transformed into a vector space called embeddings, which is a crucial mathematical representation for Language Model (LM) tasks.\n",
    "\n",
    "Once the characters are converted into embeddings, they are concatenated into a single vector. This vector serves as the input to a hidden layer, which then feeds into the output layer. The output layer has a size of 27, corresponding to the 27 available characters. The model uses a cross-entropy loss function to compute the probability distribution over these characters, predicting the most probable next character.\n",
    "\n",
    "All the discussed parameters can be adjusted, and it is advisable not to hardcode them to allow for testing different configurations effectively.\n",
    "\n",
    "### Parameters:\n",
    "- Input size (number of previous characters)\n",
    "- Embedding dimension\n",
    "- Hidden layer size\n",
    "- Output layer size (number of characters)\n",
    "- Loss function (e.g., cross-entropy)\n",
    "- Optimization algorithm and its parameters (e.g., learning rate)\n",
    "- Number of training epochs\n",
    "- Batch size\n",
    "- Dropout rate (if used)\n",
    "- Activation functions\n"
   ]
  },
  {
   "cell_type": "markdown",
   "metadata": {},
   "source": [
    "![alt text](/home/linx/code_workspace/makemore/reports/figures/word_embedding.ppm)"
   ]
  },
  {
   "cell_type": "markdown",
   "metadata": {},
   "source": [
    "We will start by building the dataset that we will use to train the model"
   ]
  },
  {
   "cell_type": "code",
   "execution_count": 6,
   "metadata": {},
   "outputs": [
    {
     "name": "stdout",
     "output_type": "stream",
     "text": [
      "Dataset lenght: 228145\n"
     ]
    }
   ],
   "source": [
    "# Context window dimension\n",
    "context_size = 3 # As in the paper\n",
    "\n",
    "# Store dataset\n",
    "X, Y = [], []\n",
    "\n",
    "for name in names:\n",
    "    # Starting context\n",
    "    context = [0] * context_size\n",
    "\n",
    "    for ch in name:\n",
    "        # Encode ch in an int\n",
    "        i_ch = encoder[ch]\n",
    "        # Store couple\n",
    "        X.append(context)\n",
    "        Y.append(i_ch)\n",
    "        # Update context\n",
    "        context = context[1:] + [i_ch]\n",
    "\n",
    "    i_ch = encoder[\".\"]\n",
    "    X.append(context)\n",
    "    Y.append(i_ch)\n",
    "\n",
    "# Store dataset in torch tensor\n",
    "X = torch.tensor(X)\n",
    "Y = torch.tensor(Y)\n",
    "\n",
    "print(f\"Dataset lenght: {len(Y)}\")"
   ]
  },
  {
   "cell_type": "markdown",
   "metadata": {},
   "source": [
    "Always visualize of the data are correctly stored in the tensors"
   ]
  },
  {
   "cell_type": "code",
   "execution_count": 7,
   "metadata": {},
   "outputs": [
    {
     "name": "stdout",
     "output_type": "stream",
     "text": [
      "['.', '.', '.'] --> e\n",
      "['.', '.', 'e'] --> m\n",
      "['.', 'e', 'm'] --> m\n",
      "['e', 'm', 'm'] --> a\n",
      "['m', 'm', 'a'] --> .\n",
      "['.', '.', '.'] --> o\n",
      "['.', '.', 'o'] --> l\n",
      "['.', 'o', 'l'] --> i\n",
      "['o', 'l', 'i'] --> v\n",
      "['l', 'i', 'v'] --> i\n",
      "['i', 'v', 'i'] --> a\n",
      "['v', 'i', 'a'] --> .\n",
      "['.', '.', '.'] --> a\n",
      "['.', '.', 'a'] --> v\n",
      "['.', 'a', 'v'] --> a\n"
     ]
    }
   ],
   "source": [
    "for prev, next in zip(X[:15], Y[:15]):\n",
    "    prev_ch = [decoder[i.item()] for i in prev]\n",
    "    next_ch = decoder[next.item()]\n",
    "\n",
    "    print(f\"{prev_ch} --> {next_ch}\")"
   ]
  },
  {
   "cell_type": "markdown",
   "metadata": {},
   "source": [
    "Is noe the time to build out model. Best practice is to start from a forward with only a some data without using the backpropgation. This is done in order to understand if all computations are working correctly"
   ]
  },
  {
   "cell_type": "code",
   "execution_count": 8,
   "metadata": {},
   "outputs": [],
   "source": [
    "# Embedding matrix: put chars in a vector space\n",
    "embedding_dim = 2\n",
    "C = torch.randn(27, embedding_dim)\n",
    "\n",
    "# We now need to extract prev and next and convert the chars into the embeddings\n",
    "n = 5\n",
    "x_example, y_example = X[:n], Y[:n]\n",
    "\n",
    "# Compute embeddings\n",
    "embeddings = C[x_example]\n",
    "\n",
    "# Concatenate embeddings of the same context\n",
    "embeddings = embeddings.view((-1, embedding_dim * context_size))\n",
    "\n",
    "# First hidden layer\n",
    "W1 = torch.randn(embedding_dim * context_size, 100)\n",
    "b1 = torch.randn(100)\n",
    "\n",
    "out = (embeddings @ W1 + b1).tanh()\n",
    "\n",
    "# Output layer\n",
    "W2 = torch.randn(100, 27)\n",
    "b2 = torch.randn(27)\n",
    "\n",
    "out = out @ W2 + b2\n",
    "\n",
    "# Compute loss\n",
    "loss = F.cross_entropy(out, y_example)"
   ]
  },
  {
   "cell_type": "markdown",
   "metadata": {},
   "source": [
    "Let's now train the network"
   ]
  },
  {
   "cell_type": "code",
   "execution_count": 9,
   "metadata": {},
   "outputs": [],
   "source": [
    "# Hyperparameters\n",
    "EPOCHS = 50000\n",
    "lr = 0.1\n",
    "embedding_dim = 30\n",
    "hidden_layer_size = 100\n",
    "batch_size = 32"
   ]
  },
  {
   "cell_type": "code",
   "execution_count": 10,
   "metadata": {},
   "outputs": [
    {
     "name": "stdout",
     "output_type": "stream",
     "text": [
      "CUDA is not available. Using CPU.\n"
     ]
    }
   ],
   "source": [
    "# Check if CUDA is available\n",
    "if torch.cuda.is_available():\n",
    "    print(\"CUDA is available. GPU is ready for use.\")\n",
    "else:\\\n",
    "    print(\"CUDA is not available. Using CPU.\")"
   ]
  },
  {
   "cell_type": "code",
   "execution_count": 11,
   "metadata": {},
   "outputs": [],
   "source": [
    "# Parameters\n",
    "C = torch.randn(27, embedding_dim)\n",
    "W1 = torch.randn(embedding_dim * context_size, hidden_layer_size)\n",
    "b1 = torch.randn(hidden_layer_size)\n",
    "W2 = torch.randn(hidden_layer_size, 27)\n",
    "b2 = torch.randn(27)\n",
    "parameters = [C, W1, b1, W2, b2]\n",
    "\n",
    "for p in parameters:\n",
    "    p.requires_grad = True"
   ]
  },
  {
   "cell_type": "code",
   "execution_count": 12,
   "metadata": {},
   "outputs": [
    {
     "name": "stdout",
     "output_type": "stream",
     "text": [
      "n1: 182516, n2: 205330\n",
      "Train lenght: 182516, Validation lenght: 22814, Test lenght: 22815\n"
     ]
    }
   ],
   "source": [
    "# Split the dataset\n",
    "n1 = round(len(Y) * 0.80)\n",
    "n2 = round(len(Y) * 0.90)\n",
    "\n",
    "X_train, Y_train = X[:n1], Y[:n1]\n",
    "X_val, Y_val = X[n1:n2], Y[n1:n2]\n",
    "X_test, Y_test = X[n2], Y[n2:]\n",
    "\n",
    "print(f\"n1: {n1}, n2: {n2}\")\n",
    "print(f\"Train lenght: {len(Y_train)}, Validation lenght: {len(Y_val)}, Test lenght: {len(Y_test)}\")"
   ]
  },
  {
   "cell_type": "code",
   "execution_count": 13,
   "metadata": {},
   "outputs": [],
   "source": [
    "stats = {\"epoch\": [],\n",
    "         \"loss\": [],\n",
    "         \"min_loss\": 200,\n",
    "         \"best_model_params\": []}"
   ]
  },
  {
   "cell_type": "code",
   "execution_count": 14,
   "metadata": {},
   "outputs": [
    {
     "name": "stdout",
     "output_type": "stream",
     "text": [
      "Training loss: 2.127258539199829\n",
      "Validation loss: 2.6124067306518555\n"
     ]
    }
   ],
   "source": [
    "# Training\n",
    "for epoch in range(EPOCHS):\n",
    "    # Mini-batch\n",
    "    i = torch.randint(low=0, high=Y_train.shape[0], size=(batch_size,))\n",
    "    x_batch = X_train[i]\n",
    "    y_batch = Y_train[i]\n",
    "\n",
    "    # Forward\n",
    "    emb = C[x_batch].view((-1, embedding_dim * context_size))\n",
    "    out = (emb @ W1 + b1).tanh()\n",
    "    out = out @ W2 + b2\n",
    "    loss = F.cross_entropy(out, y_batch)\n",
    "\n",
    "    # Set grad to zero\n",
    "    for p in parameters:\n",
    "        p.grad = None\n",
    "\n",
    "    # Backpropagation\n",
    "    loss.backward()\n",
    "\n",
    "    # Update\n",
    "    for p in parameters:\n",
    "        lr = lr if epoch < 10000 else 0.001\n",
    "        p.data -= lr * p.grad\n",
    "\n",
    "    # Store stats\n",
    "    stats[\"epoch\"].append(epoch)\n",
    "    stats[\"loss\"].append(loss.item())\n",
    "    if loss.item() < stats[\"min_loss\"]:\n",
    "        stats[\"min_loss\"] = loss.item()\n",
    "        stats[\"best_model_params\"] = parameters \n",
    "\n",
    "print(f\"Training loss: {loss}\")\n",
    "\n",
    "# Compute validation loss\n",
    "emb = C[X_val].view((-1, embedding_dim * context_size))\n",
    "out = (emb @ W1 + b1).tanh()\n",
    "out = out @ W2 + b2\n",
    "loss = F.cross_entropy(out, Y_val)\n",
    "print(f\"Validation loss: {loss}\")"
   ]
  },
  {
   "cell_type": "code",
   "execution_count": 15,
   "metadata": {},
   "outputs": [
    {
     "data": {
      "image/png": "[encoded data removed]",
      "text/plain": [
       "<Figure size 640x480 with 1 Axes>"
      ]
     },
     "metadata": {},
     "output_type": "display_data"
    },
    {
     "name": "stdout",
     "output_type": "stream",
     "text": [
      "Min loss: 1.3883633613586426\n"
     ]
    }
   ],
   "source": [
    "plt.plot(stats[\"epoch\"], stats[\"loss\"])\n",
    "plt.xscale(\"log\")\n",
    "plt.show()\n",
    "\n",
    "print(f\"Min loss: {stats['min_loss']}\")"
   ]
  },
  {
   "cell_type": "markdown",
   "metadata": {},
   "source": [
    "Is possible to test the model now"
   ]
  },
  {
   "cell_type": "code",
   "execution_count": 16,
   "metadata": {},
   "outputs": [],
   "source": [
    "for p in parameters:\n",
    "    p.requires_grad = False"
   ]
  },
  {
   "cell_type": "code",
   "execution_count": 17,
   "metadata": {},
   "outputs": [],
   "source": [
    "# Load best model\n",
    "for p, p_best in zip(parameters, stats[\"best_model_params\"]):\n",
    "    p = p_best"
   ]
  },
  {
   "cell_type": "code",
   "execution_count": 18,
   "metadata": {},
   "outputs": [
    {
     "name": "stdout",
     "output_type": "stream",
     "text": [
      "zri.\n",
      "li.\n",
      "maevirlidmabellin.\n",
      ".\n",
      "vokheyriennah.\n",
      "kpatin.\n",
      ".\n",
      "zosa.\n",
      "anelle.\n",
      "ahad.\n",
      "ournet.\n",
      "mpcnine.\n",
      "tyma.\n",
      "dudoriee.\n",
      "toben.\n",
      ".\n",
      "iakhare.\n",
      "mrion.\n",
      "kza.\n",
      "lax.\n"
     ]
    }
   ],
   "source": [
    "prev = [0] * context_size\n",
    "\n",
    "for _ in range(20):\n",
    "    while True:\n",
    "        emb = C[torch.tensor(prev)].view((-1, embedding_dim * context_size))\n",
    "        out = (emb @ W1 + b1).tanh()\n",
    "        out = F.softmax(out @ W2 + b2, dim=1)\n",
    "        next = torch.multinomial(out, num_samples=1)\n",
    "\n",
    "        next_ch = decoder[next.item()]\n",
    "        print(next_ch, end=\"\")\n",
    "\n",
    "        prev = prev[1:] + [next.item()]\n",
    "\n",
    "        if next_ch == \".\":\n",
    "            print()\n",
    "            break\n",
    "    "
   ]
  },
  {
   "cell_type": "markdown",
   "metadata": {},
   "source": [
    "# Golden Tips When Building a Model"
   ]
  },
  {
   "cell_type": "markdown",
   "metadata": {},
   "source": [
    "Here I will explore some good data analysis techniques used when training a new model to optimize its performance.\n",
    "\n",
    "Let's start with the initial error encountered during training. We can sometimes predict the type of error we will get when training a model. For example, we typically want to start with a uniform error during training. To achieve this, we want the parameters, especially in the last layer, to be correctly and uniformly distributed.\n",
    "\n",
    "When a model is trained for the first time, the loss error is typically around 20. By reducing the values of the last weight and bias matrix, the error can be reduced. This is because the output of the last layer produces the so-called logits, which are first exponentiated to produce a matrix with counts. These counts are then normalized to get the probabilities. Thus, the values of the last layer are crucial, especially in the first iteration.\n",
    "\n",
    "By multiplying \\( W_2 \\) by 0.01 and \\( b_2 \\) by 0, we can reduce the initial error to around 3, compared to 20 previously."
   ]
  },
  {
   "cell_type": "code",
   "execution_count": 101,
   "metadata": {},
   "outputs": [],
   "source": [
    "# Hyperparameters\n",
    "EPOCHS = 1\n",
    "lr = 0.01\n",
    "embedding_dim = 30\n",
    "hidden_layer_size = 100\n",
    "batch_size = 32"
   ]
  },
  {
   "cell_type": "code",
   "execution_count": 79,
   "metadata": {},
   "outputs": [],
   "source": [
    "# Parameters\n",
    "C = torch.randn(27, embedding_dim)\n",
    "W1 = torch.randn(embedding_dim * context_size, hidden_layer_size)\n",
    "b1 = torch.randn(hidden_layer_size)\n",
    "W2 = torch.randn(hidden_layer_size, 27)\n",
    "b2 = torch.randn(27)\n",
    "parameters = [C, W1, b1, W2, b2]\n",
    "\n",
    "for p in parameters:\n",
    "    p.requires_grad = True"
   ]
  },
  {
   "cell_type": "code",
   "execution_count": 80,
   "metadata": {},
   "outputs": [
    {
     "name": "stdout",
     "output_type": "stream",
     "text": [
      "Loss: 21.165660858154297\n"
     ]
    }
   ],
   "source": [
    "# Training\n",
    "for epoch in range(EPOCHS):\n",
    "    # Mini-batch\n",
    "    i = torch.randint(low=0, high=Y_train.shape[0], size=(batch_size,))\n",
    "    x_batch = X_train[i]\n",
    "    y_batch = Y_train[i]\n",
    "\n",
    "    # Forward\n",
    "    emb = C[x_batch].view((-1, embedding_dim * context_size))\n",
    "    out = (emb @ W1 + b1).tanh()\n",
    "    out = out @ W2 + b2\n",
    "    loss = F.cross_entropy(out, y_batch)\n",
    "\n",
    "    # Set grad to zero\n",
    "    for p in parameters:\n",
    "        p.grad = None\n",
    "\n",
    "    # Backpropagation\n",
    "    loss.backward()\n",
    "\n",
    "    # Update\n",
    "    for p in parameters:\n",
    "        lr = lr if epoch < 10000 else 0.001\n",
    "        p.data -= lr * p.grad\n",
    "\n",
    "    print(f\"Loss: {loss}\")"
   ]
  },
  {
   "cell_type": "markdown",
   "metadata": {},
   "source": [
    "Apply Weight Initialization in the Last Layer"
   ]
  },
  {
   "cell_type": "code",
   "execution_count": 81,
   "metadata": {},
   "outputs": [],
   "source": [
    "# Parameters\n",
    "C = torch.randn(27, embedding_dim)\n",
    "W1 = torch.randn(embedding_dim * context_size, hidden_layer_size)\n",
    "b1 = torch.randn(hidden_layer_size)\n",
    "W2 = torch.randn(hidden_layer_size, 27) * 0.01\n",
    "b2 = torch.randn(27) * 0\n",
    "parameters = [C, W1, b1, W2, b2]\n",
    "\n",
    "for p in parameters:\n",
    "    p.requires_grad = True"
   ]
  },
  {
   "cell_type": "code",
   "execution_count": 82,
   "metadata": {},
   "outputs": [
    {
     "data": {
      "image/png": "[encoded data removed]",
      "text/plain": [
       "<Figure size 640x480 with 1 Axes>"
      ]
     },
     "metadata": {},
     "output_type": "display_data"
    },
    {
     "name": "stdout",
     "output_type": "stream",
     "text": [
      "Loss: 3.306011915206909\n"
     ]
    },
    {
     "data": {
      "image/png": "[encoded data removed]",
      "text/plain": [
       "<Figure size 640x480 with 1 Axes>"
      ]
     },
     "metadata": {},
     "output_type": "display_data"
    }
   ],
   "source": [
    "# Training\n",
    "for epoch in range(EPOCHS):\n",
    "    # Mini-batch\n",
    "    i = torch.randint(low=0, high=Y_train.shape[0], size=(batch_size,))\n",
    "    x_batch = X_train[i]\n",
    "    y_batch = Y_train[i]\n",
    "\n",
    "    # Forward\n",
    "    emb = C[x_batch].view((-1, embedding_dim * context_size))\n",
    "    out = (emb @ W1 + b1)\n",
    "    plt.hist(out.flatten().tolist(), bins=50)\n",
    "    plt.show()\n",
    "    out = out.tanh()\n",
    "    plt.imshow(out > 0.99, cmap='gray', interpolation='nearest')\n",
    "    out = out @ W2 + b2\n",
    "    loss = F.cross_entropy(out, y_batch)\n",
    "\n",
    "    # Set grad to zero\n",
    "    for p in parameters:\n",
    "        p.grad = None\n",
    "\n",
    "    # Backpropagation\n",
    "    loss.backward()\n",
    "\n",
    "    # Update\n",
    "    for p in parameters:\n",
    "        lr = lr if epoch < 10000 else 0.001\n",
    "        p.data -= lr * p.grad\n",
    "\n",
    "    print(f\"Loss: {loss}\")"
   ]
  },
  {
   "cell_type": "markdown",
   "metadata": {},
   "source": [
    "A good practice is to initialize all the weights inside the network, this is done also for optimizing the gradiant. There a paper written by He that demonstrate that initializing the weights can also produce a good initialization for the gradient. [Here](https://pytorch.org/docs/stable/nn.init.html) are the gain to keep in mind when initializing the weights. For the tahn the gain depends on f_in (the number of input layer) on a constant of 5/3. Weight init also help in reducing the problems related to the saturation of the activation function (but not always solve it), in the next code let's plot for example the distribution of the values before the activation in the first layer"
   ]
  },
  {
   "cell_type": "code",
   "execution_count": 83,
   "metadata": {},
   "outputs": [],
   "source": [
    "# Parameters\n",
    "C = torch.randn(27, embedding_dim) # No init needed\n",
    "W1 = torch.randn(embedding_dim * context_size, hidden_layer_size) * ((5/3) / ((embedding_dim * context_size) ** 0.5)) \n",
    "b1 = torch.randn(hidden_layer_size) * 0\n",
    "W2 = torch.randn(hidden_layer_size, 27) * ((5/3) / (hidden_layer_size ** 0.5)) \n",
    "b2 = torch.randn(27) * 0\n",
    "parameters = [C, W1, b1, W2, b2]\n",
    "\n",
    "for p in parameters:\n",
    "    p.requires_grad = True"
   ]
  },
  {
   "cell_type": "code",
   "execution_count": 84,
   "metadata": {},
   "outputs": [
    {
     "data": {
      "image/png": "[encoded data removed]",
      "text/plain": [
       "<Figure size 640x480 with 1 Axes>"
      ]
     },
     "metadata": {},
     "output_type": "display_data"
    },
    {
     "name": "stdout",
     "output_type": "stream",
     "text": [
      "Loss: 4.095798969268799\n"
     ]
    },
    {
     "data": {
      "image/png": "[encoded data removed]",
      "text/plain": [
       "<Figure size 640x480 with 1 Axes>"
      ]
     },
     "metadata": {},
     "output_type": "display_data"
    }
   ],
   "source": [
    "# Training\n",
    "for epoch in range(EPOCHS):\n",
    "    # Mini-batch\n",
    "    i = torch.randint(low=0, high=Y_train.shape[0], size=(batch_size,))\n",
    "    x_batch = X_train[i]\n",
    "    y_batch = Y_train[i]\n",
    "\n",
    "    # Forward\n",
    "    emb = C[x_batch].view((-1, embedding_dim * context_size))\n",
    "    out = (emb @ W1 + b1)\n",
    "    plt.hist(out.flatten().tolist(), bins=50)\n",
    "    plt.show()\n",
    "    out = out.tanh()\n",
    "    plt.imshow(out > 0.99, cmap='gray', interpolation='nearest')\n",
    "    out = out @ W2 + b2\n",
    "    loss = F.cross_entropy(out, y_batch)\n",
    "\n",
    "    # Set grad to zero\n",
    "    for p in parameters:\n",
    "        p.grad = None\n",
    "\n",
    "    # Backpropagation\n",
    "    loss.backward()\n",
    "\n",
    "    # Update\n",
    "    for p in parameters:\n",
    "        lr = lr if epoch < 10000 else 0.001\n",
    "        p.data -= lr * p.grad\n",
    "\n",
    "    print(f\"Loss: {loss}\")"
   ]
  },
  {
   "cell_type": "markdown",
   "metadata": {},
   "source": [
    "We will now introduce the batch normalization an operation "
   ]
  },
  {
   "cell_type": "code",
   "execution_count": 99,
   "metadata": {},
   "outputs": [],
   "source": [
    "# Parameters\n",
    "C = torch.randn(27, embedding_dim) # No init needed\n",
    "W1 = torch.randn(embedding_dim * context_size, hidden_layer_size) * ((5/3) / ((embedding_dim * context_size) ** 0.5)) \n",
    "b1 = torch.randn(hidden_layer_size) * 0\n",
    "shift1 = torch.randn((1, hidden_layer_size))\n",
    "squeeze1 = torch.randn((1, hidden_layer_size))\n",
    "W2 = torch.randn(hidden_layer_size, 27) * ((5/3) / (hidden_layer_size ** 0.5)) \n",
    "b2 = torch.randn(27) * 0\n",
    "parameters = [C, W1, b1, shift1, squeeze1, W2, b2]\n",
    "\n",
    "for p in parameters:\n",
    "    p.requires_grad = True"
   ]
  },
  {
   "cell_type": "code",
   "execution_count": 102,
   "metadata": {},
   "outputs": [
    {
     "data": {
      "image/png": "[encoded data removed]",
      "text/plain": [
       "<Figure size 640x480 with 1 Axes>"
      ]
     },
     "metadata": {},
     "output_type": "display_data"
    },
    {
     "data": {
      "image/png": "[encoded data removed]",
      "text/plain": [
       "<Figure size 640x480 with 1 Axes>"
      ]
     },
     "metadata": {},
     "output_type": "display_data"
    },
    {
     "name": "stdout",
     "output_type": "stream",
     "text": [
      "Loss: 3.188210964202881\n"
     ]
    }
   ],
   "source": [
    "# Training\n",
    "for epoch in range(EPOCHS):\n",
    "    # Mini-batch\n",
    "    i = torch.randint(low=0, high=Y_train.shape[0], size=(batch_size,))\n",
    "    x_batch = X_train[i]\n",
    "    y_batch = Y_train[i]\n",
    "\n",
    "    # Forward\n",
    "    emb = C[x_batch].view((-1, embedding_dim * context_size))\n",
    "    out = (emb @ W1 + b1)\n",
    "    out = squeeze1 * (out - out.mean(dim=0, keepdim=True) / out.std(dim=0, keepdim=True)) + shift1\n",
    "    plt.hist(out.flatten().tolist(), bins=50)\n",
    "    plt.show()\n",
    "    out = out.tanh()\n",
    "    plt.imshow(out > 0.99, cmap='gray', interpolation='nearest')\n",
    "    plt.show()\n",
    "    out = out @ W2 + b2\n",
    "    loss = F.cross_entropy(out, y_batch)\n",
    "\n",
    "    # Set grad to zero\n",
    "    for p in parameters:\n",
    "        p.grad = None\n",
    "\n",
    "    # Backpropagation\n",
    "    loss.backward()\n",
    "\n",
    "    # Update\n",
    "    for p in parameters:\n",
    "        lr = lr if epoch < 10000 else 0.001\n",
    "        p.data -= lr * p.grad\n",
    "\n",
    "    print(f\"Loss: {loss}\")"
   ]
  }
 ],
 "metadata": {
  "kernelspec": {
   "display_name": "env",
   "language": "python",
   "name": "python3"
  },
  "language_info": {
   "codemirror_mode": {
    "name": "ipython",
    "version": 3
   },
   "file_extension": ".py",
   "mimetype": "text/x-python",
   "name": "python",
   "nbconvert_exporter": "python",
   "pygments_lexer": "ipython3",
   "version": "3.10.12"
  }
 },
 "nbformat": 4,
 "nbformat_minor": 2
}
